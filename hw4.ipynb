{
 "cells": [
  {
   "cell_type": "markdown",
   "metadata": {},
   "source": [
    "# Assignment 4- Data Processing\n",
    "\n",
    "__Note:__ _This assignment may optionally by done as pairs for students in 4510; this is particularly recommended for students who don't have as strong a background in Python and/or databases.  Students enrolled in 8515 should work individually._\n",
    "\n",
    "The goal of this assignment is to experiment with loading and pre-processing data from external sources (i.e. as opposed to using the \"built-in\" datasets that come with SKLearn as we have done in the past).\n",
    "\n",
    "This notebook is fairly minimal, but it loads the data using Pandas (see https://pandas.pydata.org/pandas-docs/stable/ for documentation).  Be sure you've downloaded the data file from Blackboard and put it in the same folder as this scaffolding.  It's also worth checking out the example from class (available in annotated form in the Content area), which demonstrates a bunch of operations that you might find useful here.\n",
    "\n",
    "A major point of this assignment is to learn about exploratory data analysis and data cleaning; a secondary part is to begin to familiarize yourself with the Pandas library, which is very useful for doing this type of data processing.  The provided dataset represents temperature data collected from three different weather stations in the Philadelphia area, with one sample per month at each station.  However, there are a number of missing values, and also a number of readings that are clearly incorrect (e.g. consider the min/max values for the temperature column and see if they're realistic).  The data also has a number of extra columns that will not be useful for the current problem, but might be useful under other circumstances.\n",
    "\n",
    "The goal is to create a data set with a single (clean) row of values for each date.  If you have 'good' values from all three weather stations, you should use the average of those values; however, you need to be careful not to let the 'bad' data mess up your estimates.  E.g. if there's a missing value, you want to take the average of the two good values (as opposed to adding the two good values and then dividing by three); if there's a clearly mistaken measurement, you likewise don't want to include that in the average.\n",
    "\n",
    "Note that you need to do this for each of the three temperature columns, TMIN, TMAX, and TAVG.  Once you have created this cleaned version of the data set, you should generate a few simple plots to look at the resulting data, including a line graph that shows how the temperatures (monthly low, high, and average) have evolved over the time period included in the data, and a box plot showing the distribution of the data from each of those three columns."
   ]
  },
  {
   "cell_type": "code",
   "execution_count": 1,
   "metadata": {},
   "outputs": [],
   "source": [
    "# CSC 4510 - Machine Learning\n",
    "# Assignment 4\n",
    "# Scaffolding by Dr. Ben Mitchell\n",
    "# Assignment completed by: <YOUR NAME(S) HERE>\n",
    "# Resources used: \n",
    "#   <List any resources you used beyond the ones posted on Blackboard>\n",
    "#   <This can include books, websites, other students, etc.>"
   ]
  },
  {
   "cell_type": "code",
   "execution_count": 2,
   "metadata": {},
   "outputs": [],
   "source": [
    "import pandas as pd # database loading and manipulation library\n",
    "import numpy as np # numeric python lybrary\n",
    "import matplotlib.pyplot as plt # plotting and graphing library\n",
    "%matplotlib notebook "
   ]
  },
  {
   "cell_type": "markdown",
   "metadata": {},
   "source": [
    "### Note the way we load this file\n",
    "If we just do read_csv() normally, the \"date\" column will just be a text string.  To take advantage of Pandas' Date object type, we can ask the file reader to parse that column as dates, which will result in date objects that are easier to work with."
   ]
  },
  {
   "cell_type": "code",
   "execution_count": 3,
   "metadata": {},
   "outputs": [],
   "source": [
    "data = pd.read_csv('temperaturesRaw.csv', parse_dates=['DATE'])"
   ]
  },
  {
   "cell_type": "code",
   "execution_count": 4,
   "metadata": {},
   "outputs": [
    {
     "data": {
      "text/html": [
       "<div>\n",
       "<style scoped>\n",
       "    .dataframe tbody tr th:only-of-type {\n",
       "        vertical-align: middle;\n",
       "    }\n",
       "\n",
       "    .dataframe tbody tr th {\n",
       "        vertical-align: top;\n",
       "    }\n",
       "\n",
       "    .dataframe thead th {\n",
       "        text-align: right;\n",
       "    }\n",
       "</style>\n",
       "<table border=\"1\" class=\"dataframe\">\n",
       "  <thead>\n",
       "    <tr style=\"text-align: right;\">\n",
       "      <th></th>\n",
       "      <th>STATION</th>\n",
       "      <th>NAME</th>\n",
       "      <th>LATITUDE</th>\n",
       "      <th>LONGITUDE</th>\n",
       "      <th>ELEVATION</th>\n",
       "      <th>DATE</th>\n",
       "      <th>AWND</th>\n",
       "      <th>AWND_ATTRIBUTES</th>\n",
       "      <th>PRCP</th>\n",
       "      <th>PRCP_ATTRIBUTES</th>\n",
       "      <th>TAVG</th>\n",
       "      <th>TAVG_ATTRIBUTES</th>\n",
       "      <th>TMAX</th>\n",
       "      <th>TMAX_ATTRIBUTES</th>\n",
       "      <th>TMIN</th>\n",
       "      <th>TMIN_ATTRIBUTES</th>\n",
       "    </tr>\n",
       "  </thead>\n",
       "  <tbody>\n",
       "    <tr>\n",
       "      <th>0</th>\n",
       "      <td>USW00013739</td>\n",
       "      <td>PHILADELPHIA INTERNATIONAL AIRPORT, PA US</td>\n",
       "      <td>39.87327</td>\n",
       "      <td>-75.22678</td>\n",
       "      <td>3.0</td>\n",
       "      <td>1948-01-01</td>\n",
       "      <td>NaN</td>\n",
       "      <td>NaN</td>\n",
       "      <td>4.69</td>\n",
       "      <td>,,,X</td>\n",
       "      <td>25.9</td>\n",
       "      <td>,X</td>\n",
       "      <td>32.8</td>\n",
       "      <td>,,,X</td>\n",
       "      <td>19.1</td>\n",
       "      <td>,,,X</td>\n",
       "    </tr>\n",
       "    <tr>\n",
       "      <th>1</th>\n",
       "      <td>USW00013739</td>\n",
       "      <td>PHILADELPHIA INTERNATIONAL AIRPORT, PA US</td>\n",
       "      <td>39.87327</td>\n",
       "      <td>-75.22678</td>\n",
       "      <td>3.0</td>\n",
       "      <td>1948-02-01</td>\n",
       "      <td>NaN</td>\n",
       "      <td>NaN</td>\n",
       "      <td>2.84</td>\n",
       "      <td>,,,X</td>\n",
       "      <td>31.8</td>\n",
       "      <td>,X</td>\n",
       "      <td>40.2</td>\n",
       "      <td>,,,X</td>\n",
       "      <td>23.3</td>\n",
       "      <td>,,,X</td>\n",
       "    </tr>\n",
       "    <tr>\n",
       "      <th>2</th>\n",
       "      <td>USW00013739</td>\n",
       "      <td>PHILADELPHIA INTERNATIONAL AIRPORT, PA US</td>\n",
       "      <td>39.87327</td>\n",
       "      <td>-75.22678</td>\n",
       "      <td>3.0</td>\n",
       "      <td>1948-03-01</td>\n",
       "      <td>NaN</td>\n",
       "      <td>NaN</td>\n",
       "      <td>3.76</td>\n",
       "      <td>,,,X</td>\n",
       "      <td>43.8</td>\n",
       "      <td>,X</td>\n",
       "      <td>54.5</td>\n",
       "      <td>,,,X</td>\n",
       "      <td>33.2</td>\n",
       "      <td>,,,X</td>\n",
       "    </tr>\n",
       "    <tr>\n",
       "      <th>3</th>\n",
       "      <td>USW00013739</td>\n",
       "      <td>PHILADELPHIA INTERNATIONAL AIRPORT, PA US</td>\n",
       "      <td>39.87327</td>\n",
       "      <td>-75.22678</td>\n",
       "      <td>3.0</td>\n",
       "      <td>1948-04-01</td>\n",
       "      <td>NaN</td>\n",
       "      <td>NaN</td>\n",
       "      <td>3.93</td>\n",
       "      <td>,,,X</td>\n",
       "      <td>52.0</td>\n",
       "      <td>,X</td>\n",
       "      <td>62.2</td>\n",
       "      <td>,,,X</td>\n",
       "      <td>41.7</td>\n",
       "      <td>,,,X</td>\n",
       "    </tr>\n",
       "    <tr>\n",
       "      <th>4</th>\n",
       "      <td>USW00013739</td>\n",
       "      <td>PHILADELPHIA INTERNATIONAL AIRPORT, PA US</td>\n",
       "      <td>39.87327</td>\n",
       "      <td>-75.22678</td>\n",
       "      <td>3.0</td>\n",
       "      <td>1948-05-01</td>\n",
       "      <td>NaN</td>\n",
       "      <td>NaN</td>\n",
       "      <td>7.41</td>\n",
       "      <td>,,,0</td>\n",
       "      <td>61.9</td>\n",
       "      <td>,0</td>\n",
       "      <td>71.3</td>\n",
       "      <td>,,,0</td>\n",
       "      <td>52.5</td>\n",
       "      <td>,,,0</td>\n",
       "    </tr>\n",
       "  </tbody>\n",
       "</table>\n",
       "</div>"
      ],
      "text/plain": [
       "       STATION                                       NAME  LATITUDE  \\\n",
       "0  USW00013739  PHILADELPHIA INTERNATIONAL AIRPORT, PA US  39.87327   \n",
       "1  USW00013739  PHILADELPHIA INTERNATIONAL AIRPORT, PA US  39.87327   \n",
       "2  USW00013739  PHILADELPHIA INTERNATIONAL AIRPORT, PA US  39.87327   \n",
       "3  USW00013739  PHILADELPHIA INTERNATIONAL AIRPORT, PA US  39.87327   \n",
       "4  USW00013739  PHILADELPHIA INTERNATIONAL AIRPORT, PA US  39.87327   \n",
       "\n",
       "   LONGITUDE  ELEVATION       DATE  AWND AWND_ATTRIBUTES  PRCP  \\\n",
       "0  -75.22678        3.0 1948-01-01   NaN             NaN  4.69   \n",
       "1  -75.22678        3.0 1948-02-01   NaN             NaN  2.84   \n",
       "2  -75.22678        3.0 1948-03-01   NaN             NaN  3.76   \n",
       "3  -75.22678        3.0 1948-04-01   NaN             NaN  3.93   \n",
       "4  -75.22678        3.0 1948-05-01   NaN             NaN  7.41   \n",
       "\n",
       "  PRCP_ATTRIBUTES  TAVG TAVG_ATTRIBUTES  TMAX TMAX_ATTRIBUTES  TMIN  \\\n",
       "0            ,,,X  25.9              ,X  32.8            ,,,X  19.1   \n",
       "1            ,,,X  31.8              ,X  40.2            ,,,X  23.3   \n",
       "2            ,,,X  43.8              ,X  54.5            ,,,X  33.2   \n",
       "3            ,,,X  52.0              ,X  62.2            ,,,X  41.7   \n",
       "4            ,,,0  61.9              ,0  71.3            ,,,0  52.5   \n",
       "\n",
       "  TMIN_ATTRIBUTES  \n",
       "0            ,,,X  \n",
       "1            ,,,X  \n",
       "2            ,,,X  \n",
       "3            ,,,X  \n",
       "4            ,,,0  "
      ]
     },
     "execution_count": 4,
     "metadata": {},
     "output_type": "execute_result"
    }
   ],
   "source": [
    "data.head()"
   ]
  },
  {
   "cell_type": "code",
   "execution_count": 5,
   "metadata": {},
   "outputs": [
    {
     "name": "stdout",
     "output_type": "stream",
     "text": [
      "<class 'pandas.core.frame.DataFrame'>\n",
      "RangeIndex: 3399 entries, 0 to 3398\n",
      "Data columns (total 16 columns):\n",
      "STATION            3399 non-null object\n",
      "NAME               3399 non-null object\n",
      "LATITUDE           3399 non-null float64\n",
      "LONGITUDE          3399 non-null float64\n",
      "ELEVATION          3399 non-null float64\n",
      "DATE               3399 non-null datetime64[ns]\n",
      "AWND               409 non-null float64\n",
      "AWND_ATTRIBUTES    409 non-null object\n",
      "PRCP               3331 non-null float64\n",
      "PRCP_ATTRIBUTES    3331 non-null object\n",
      "TAVG               3261 non-null float64\n",
      "TAVG_ATTRIBUTES    3290 non-null object\n",
      "TMAX               3285 non-null float64\n",
      "TMAX_ATTRIBUTES    3315 non-null object\n",
      "TMIN               3307 non-null float64\n",
      "TMIN_ATTRIBUTES    3336 non-null object\n",
      "dtypes: datetime64[ns](1), float64(8), object(7)\n",
      "memory usage: 425.0+ KB\n"
     ]
    }
   ],
   "source": [
    "data.info()"
   ]
  },
  {
   "cell_type": "code",
   "execution_count": 6,
   "metadata": {},
   "outputs": [
    {
     "data": {
      "text/plain": [
       "19.31"
      ]
     },
     "execution_count": 6,
     "metadata": {},
     "output_type": "execute_result"
    }
   ],
   "source": [
    "data['PRCP'].max()"
   ]
  },
  {
   "cell_type": "markdown",
   "metadata": {},
   "source": [
    "### TimeDate objects are flexible\n",
    "You can treat them as units, but its also easy to pull out the components using properties (see https://pandas.pydata.org/pandas-docs/stable/timeseries.html#time-date-components)"
   ]
  },
  {
   "cell_type": "code",
   "execution_count": 7,
   "metadata": {},
   "outputs": [
    {
     "data": {
      "text/plain": [
       "Timestamp('1948-01-01 00:00:00')"
      ]
     },
     "execution_count": 7,
     "metadata": {},
     "output_type": "execute_result"
    }
   ],
   "source": [
    "data['DATE'][0]"
   ]
  },
  {
   "cell_type": "code",
   "execution_count": 8,
   "metadata": {},
   "outputs": [
    {
     "name": "stdout",
     "output_type": "stream",
     "text": [
      "first row year is 1948 first row month is 1\n"
     ]
    }
   ],
   "source": [
    "print('first row year is', data['DATE'][0].year, 'first row month is', data['DATE'][0].month)"
   ]
  },
  {
   "cell_type": "markdown",
   "metadata": {},
   "source": [
    "## From here it's up to you\n",
    "Your job is to explore the data, figure out what's wrong with it, produce a cleaned version which also combines the values from the three weather stations, and then show some nice graphs and charts demonstating the properties that the cleaned-up version of the data has (e.g. a plot of how temperatures have changed over time, a box-plot showing means/medians/ranges, etc.).\n",
    "\n",
    "This will be a process much like we went through in class, so the notebook from class is a good reference, though please note that your version should contain markdown (in class, I essentially gave the \"markdown\" as a verbal presentation rather than in writing).\n",
    "\n",
    "Since a big part of the point of exploratory data analysis is to experiment and then explain those experiments and their results, you're going to need to annotate your code (using Markdown cells); I'm looking for not just code here, but also an explanation of the reasoning behind the code.  Again, the example using the Titanic data is a good reference for how this might work.\n",
    "\n",
    "***\n",
    "\n",
    "According to the NOAA documentation, AWND is the average wind speed, PRCP is the total precipitation, TAVG is the monthly average temperature, TMIN and TMAX are the monthly min and max temperatures.  The ATTRIBUTES columns give extra information about the associated column.  Full documentation can be found at https://www1.ncdc.noaa.gov/pub/data/cdo/documentation/gsom-gsoy_documentation.pdf but for this assignment it's safe to just ignore the ATTRIBUTES columns.\n",
    "\n",
    "It's fine to drop columns that you're not using for your analysis, particularly if they seem to be distracting and/or not really meaningful in the conjoined version of the data."
   ]
  },
  {
   "cell_type": "code",
   "execution_count": 9,
   "metadata": {},
   "outputs": [],
   "source": [
    "# Average wind speed seems to not matter considering only 11% of the rows have it\n",
    "# Drop all attribute columns as they are gunking up the data\n",
    "clean = data.drop(['AWND','AWND_ATTRIBUTES','PRCP_ATTRIBUTES','TAVG_ATTRIBUTES','TMAX_ATTRIBUTES','TMIN_ATTRIBUTES'], axis = 1)"
   ]
  },
  {
   "cell_type": "code",
   "execution_count": 10,
   "metadata": {},
   "outputs": [
    {
     "data": {
      "text/html": [
       "<div>\n",
       "<style scoped>\n",
       "    .dataframe tbody tr th:only-of-type {\n",
       "        vertical-align: middle;\n",
       "    }\n",
       "\n",
       "    .dataframe tbody tr th {\n",
       "        vertical-align: top;\n",
       "    }\n",
       "\n",
       "    .dataframe thead th {\n",
       "        text-align: right;\n",
       "    }\n",
       "</style>\n",
       "<table border=\"1\" class=\"dataframe\">\n",
       "  <thead>\n",
       "    <tr style=\"text-align: right;\">\n",
       "      <th></th>\n",
       "      <th>STATION</th>\n",
       "      <th>NAME</th>\n",
       "      <th>LATITUDE</th>\n",
       "      <th>LONGITUDE</th>\n",
       "      <th>ELEVATION</th>\n",
       "      <th>DATE</th>\n",
       "      <th>PRCP</th>\n",
       "      <th>TAVG</th>\n",
       "      <th>TMAX</th>\n",
       "      <th>TMIN</th>\n",
       "    </tr>\n",
       "  </thead>\n",
       "  <tbody>\n",
       "    <tr>\n",
       "      <th>0</th>\n",
       "      <td>USW00013739</td>\n",
       "      <td>PHILADELPHIA INTERNATIONAL AIRPORT, PA US</td>\n",
       "      <td>39.87327</td>\n",
       "      <td>-75.22678</td>\n",
       "      <td>3.0</td>\n",
       "      <td>1948-01-01</td>\n",
       "      <td>4.69</td>\n",
       "      <td>25.9</td>\n",
       "      <td>32.8</td>\n",
       "      <td>19.1</td>\n",
       "    </tr>\n",
       "    <tr>\n",
       "      <th>1</th>\n",
       "      <td>USW00013739</td>\n",
       "      <td>PHILADELPHIA INTERNATIONAL AIRPORT, PA US</td>\n",
       "      <td>39.87327</td>\n",
       "      <td>-75.22678</td>\n",
       "      <td>3.0</td>\n",
       "      <td>1948-02-01</td>\n",
       "      <td>2.84</td>\n",
       "      <td>31.8</td>\n",
       "      <td>40.2</td>\n",
       "      <td>23.3</td>\n",
       "    </tr>\n",
       "    <tr>\n",
       "      <th>2</th>\n",
       "      <td>USW00013739</td>\n",
       "      <td>PHILADELPHIA INTERNATIONAL AIRPORT, PA US</td>\n",
       "      <td>39.87327</td>\n",
       "      <td>-75.22678</td>\n",
       "      <td>3.0</td>\n",
       "      <td>1948-03-01</td>\n",
       "      <td>3.76</td>\n",
       "      <td>43.8</td>\n",
       "      <td>54.5</td>\n",
       "      <td>33.2</td>\n",
       "    </tr>\n",
       "    <tr>\n",
       "      <th>3</th>\n",
       "      <td>USW00013739</td>\n",
       "      <td>PHILADELPHIA INTERNATIONAL AIRPORT, PA US</td>\n",
       "      <td>39.87327</td>\n",
       "      <td>-75.22678</td>\n",
       "      <td>3.0</td>\n",
       "      <td>1948-04-01</td>\n",
       "      <td>3.93</td>\n",
       "      <td>52.0</td>\n",
       "      <td>62.2</td>\n",
       "      <td>41.7</td>\n",
       "    </tr>\n",
       "    <tr>\n",
       "      <th>4</th>\n",
       "      <td>USW00013739</td>\n",
       "      <td>PHILADELPHIA INTERNATIONAL AIRPORT, PA US</td>\n",
       "      <td>39.87327</td>\n",
       "      <td>-75.22678</td>\n",
       "      <td>3.0</td>\n",
       "      <td>1948-05-01</td>\n",
       "      <td>7.41</td>\n",
       "      <td>61.9</td>\n",
       "      <td>71.3</td>\n",
       "      <td>52.5</td>\n",
       "    </tr>\n",
       "    <tr>\n",
       "      <th>5</th>\n",
       "      <td>USW00013739</td>\n",
       "      <td>PHILADELPHIA INTERNATIONAL AIRPORT, PA US</td>\n",
       "      <td>39.87327</td>\n",
       "      <td>-75.22678</td>\n",
       "      <td>3.0</td>\n",
       "      <td>1948-06-01</td>\n",
       "      <td>4.94</td>\n",
       "      <td>71.1</td>\n",
       "      <td>81.2</td>\n",
       "      <td>61.0</td>\n",
       "    </tr>\n",
       "    <tr>\n",
       "      <th>6</th>\n",
       "      <td>USW00013739</td>\n",
       "      <td>PHILADELPHIA INTERNATIONAL AIRPORT, PA US</td>\n",
       "      <td>39.87327</td>\n",
       "      <td>-75.22678</td>\n",
       "      <td>3.0</td>\n",
       "      <td>1948-07-01</td>\n",
       "      <td>1.90</td>\n",
       "      <td>76.4</td>\n",
       "      <td>85.9</td>\n",
       "      <td>66.8</td>\n",
       "    </tr>\n",
       "    <tr>\n",
       "      <th>7</th>\n",
       "      <td>USW00013739</td>\n",
       "      <td>PHILADELPHIA INTERNATIONAL AIRPORT, PA US</td>\n",
       "      <td>39.87327</td>\n",
       "      <td>-75.22678</td>\n",
       "      <td>3.0</td>\n",
       "      <td>1948-08-01</td>\n",
       "      <td>5.96</td>\n",
       "      <td>74.6</td>\n",
       "      <td>83.9</td>\n",
       "      <td>65.3</td>\n",
       "    </tr>\n",
       "    <tr>\n",
       "      <th>8</th>\n",
       "      <td>USW00013739</td>\n",
       "      <td>PHILADELPHIA INTERNATIONAL AIRPORT, PA US</td>\n",
       "      <td>39.87327</td>\n",
       "      <td>-75.22678</td>\n",
       "      <td>3.0</td>\n",
       "      <td>1948-09-01</td>\n",
       "      <td>2.09</td>\n",
       "      <td>67.7</td>\n",
       "      <td>78.4</td>\n",
       "      <td>57.0</td>\n",
       "    </tr>\n",
       "    <tr>\n",
       "      <th>9</th>\n",
       "      <td>USW00013739</td>\n",
       "      <td>PHILADELPHIA INTERNATIONAL AIRPORT, PA US</td>\n",
       "      <td>39.87327</td>\n",
       "      <td>-75.22678</td>\n",
       "      <td>3.0</td>\n",
       "      <td>1948-10-01</td>\n",
       "      <td>1.53</td>\n",
       "      <td>55.2</td>\n",
       "      <td>64.0</td>\n",
       "      <td>46.5</td>\n",
       "    </tr>\n",
       "    <tr>\n",
       "      <th>10</th>\n",
       "      <td>USW00013739</td>\n",
       "      <td>PHILADELPHIA INTERNATIONAL AIRPORT, PA US</td>\n",
       "      <td>39.87327</td>\n",
       "      <td>-75.22678</td>\n",
       "      <td>3.0</td>\n",
       "      <td>1948-11-01</td>\n",
       "      <td>4.79</td>\n",
       "      <td>50.9</td>\n",
       "      <td>59.4</td>\n",
       "      <td>42.4</td>\n",
       "    </tr>\n",
       "    <tr>\n",
       "      <th>11</th>\n",
       "      <td>USW00013739</td>\n",
       "      <td>PHILADELPHIA INTERNATIONAL AIRPORT, PA US</td>\n",
       "      <td>39.87327</td>\n",
       "      <td>-75.22678</td>\n",
       "      <td>3.0</td>\n",
       "      <td>1948-12-01</td>\n",
       "      <td>5.26</td>\n",
       "      <td>37.4</td>\n",
       "      <td>45.1</td>\n",
       "      <td>29.6</td>\n",
       "    </tr>\n",
       "    <tr>\n",
       "      <th>12</th>\n",
       "      <td>USW00013739</td>\n",
       "      <td>PHILADELPHIA INTERNATIONAL AIRPORT, PA US</td>\n",
       "      <td>39.87327</td>\n",
       "      <td>-75.22678</td>\n",
       "      <td>3.0</td>\n",
       "      <td>1949-01-01</td>\n",
       "      <td>6.06</td>\n",
       "      <td>39.8</td>\n",
       "      <td>47.3</td>\n",
       "      <td>32.3</td>\n",
       "    </tr>\n",
       "    <tr>\n",
       "      <th>13</th>\n",
       "      <td>USW00013739</td>\n",
       "      <td>PHILADELPHIA INTERNATIONAL AIRPORT, PA US</td>\n",
       "      <td>39.87327</td>\n",
       "      <td>-75.22678</td>\n",
       "      <td>3.0</td>\n",
       "      <td>1949-02-01</td>\n",
       "      <td>3.56</td>\n",
       "      <td>39.3</td>\n",
       "      <td>47.9</td>\n",
       "      <td>30.6</td>\n",
       "    </tr>\n",
       "    <tr>\n",
       "      <th>14</th>\n",
       "      <td>USW00013739</td>\n",
       "      <td>PHILADELPHIA INTERNATIONAL AIRPORT, PA US</td>\n",
       "      <td>39.87327</td>\n",
       "      <td>-75.22678</td>\n",
       "      <td>3.0</td>\n",
       "      <td>1949-03-01</td>\n",
       "      <td>2.78</td>\n",
       "      <td>43.9</td>\n",
       "      <td>53.4</td>\n",
       "      <td>34.4</td>\n",
       "    </tr>\n",
       "    <tr>\n",
       "      <th>15</th>\n",
       "      <td>USW00013739</td>\n",
       "      <td>PHILADELPHIA INTERNATIONAL AIRPORT, PA US</td>\n",
       "      <td>39.87327</td>\n",
       "      <td>-75.22678</td>\n",
       "      <td>3.0</td>\n",
       "      <td>1949-04-01</td>\n",
       "      <td>2.36</td>\n",
       "      <td>53.4</td>\n",
       "      <td>63.5</td>\n",
       "      <td>43.3</td>\n",
       "    </tr>\n",
       "    <tr>\n",
       "      <th>16</th>\n",
       "      <td>USW00013739</td>\n",
       "      <td>PHILADELPHIA INTERNATIONAL AIRPORT, PA US</td>\n",
       "      <td>39.87327</td>\n",
       "      <td>-75.22678</td>\n",
       "      <td>3.0</td>\n",
       "      <td>1949-05-01</td>\n",
       "      <td>5.91</td>\n",
       "      <td>NaN</td>\n",
       "      <td>75.0</td>\n",
       "      <td>53.8</td>\n",
       "    </tr>\n",
       "    <tr>\n",
       "      <th>17</th>\n",
       "      <td>USW00013739</td>\n",
       "      <td>PHILADELPHIA INTERNATIONAL AIRPORT, PA US</td>\n",
       "      <td>39.87327</td>\n",
       "      <td>-75.22678</td>\n",
       "      <td>3.0</td>\n",
       "      <td>1949-06-01</td>\n",
       "      <td>0.11</td>\n",
       "      <td>74.6</td>\n",
       "      <td>85.2</td>\n",
       "      <td>64.0</td>\n",
       "    </tr>\n",
       "    <tr>\n",
       "      <th>18</th>\n",
       "      <td>USW00013739</td>\n",
       "      <td>PHILADELPHIA INTERNATIONAL AIRPORT, PA US</td>\n",
       "      <td>39.87327</td>\n",
       "      <td>-75.22678</td>\n",
       "      <td>3.0</td>\n",
       "      <td>1949-07-01</td>\n",
       "      <td>4.25</td>\n",
       "      <td>80.2</td>\n",
       "      <td>89.7</td>\n",
       "      <td>70.8</td>\n",
       "    </tr>\n",
       "    <tr>\n",
       "      <th>19</th>\n",
       "      <td>USW00013739</td>\n",
       "      <td>PHILADELPHIA INTERNATIONAL AIRPORT, PA US</td>\n",
       "      <td>39.87327</td>\n",
       "      <td>-75.22678</td>\n",
       "      <td>3.0</td>\n",
       "      <td>1949-08-01</td>\n",
       "      <td>4.53</td>\n",
       "      <td>76.2</td>\n",
       "      <td>85.9</td>\n",
       "      <td>66.5</td>\n",
       "    </tr>\n",
       "  </tbody>\n",
       "</table>\n",
       "</div>"
      ],
      "text/plain": [
       "        STATION                                       NAME  LATITUDE  \\\n",
       "0   USW00013739  PHILADELPHIA INTERNATIONAL AIRPORT, PA US  39.87327   \n",
       "1   USW00013739  PHILADELPHIA INTERNATIONAL AIRPORT, PA US  39.87327   \n",
       "2   USW00013739  PHILADELPHIA INTERNATIONAL AIRPORT, PA US  39.87327   \n",
       "3   USW00013739  PHILADELPHIA INTERNATIONAL AIRPORT, PA US  39.87327   \n",
       "4   USW00013739  PHILADELPHIA INTERNATIONAL AIRPORT, PA US  39.87327   \n",
       "5   USW00013739  PHILADELPHIA INTERNATIONAL AIRPORT, PA US  39.87327   \n",
       "6   USW00013739  PHILADELPHIA INTERNATIONAL AIRPORT, PA US  39.87327   \n",
       "7   USW00013739  PHILADELPHIA INTERNATIONAL AIRPORT, PA US  39.87327   \n",
       "8   USW00013739  PHILADELPHIA INTERNATIONAL AIRPORT, PA US  39.87327   \n",
       "9   USW00013739  PHILADELPHIA INTERNATIONAL AIRPORT, PA US  39.87327   \n",
       "10  USW00013739  PHILADELPHIA INTERNATIONAL AIRPORT, PA US  39.87327   \n",
       "11  USW00013739  PHILADELPHIA INTERNATIONAL AIRPORT, PA US  39.87327   \n",
       "12  USW00013739  PHILADELPHIA INTERNATIONAL AIRPORT, PA US  39.87327   \n",
       "13  USW00013739  PHILADELPHIA INTERNATIONAL AIRPORT, PA US  39.87327   \n",
       "14  USW00013739  PHILADELPHIA INTERNATIONAL AIRPORT, PA US  39.87327   \n",
       "15  USW00013739  PHILADELPHIA INTERNATIONAL AIRPORT, PA US  39.87327   \n",
       "16  USW00013739  PHILADELPHIA INTERNATIONAL AIRPORT, PA US  39.87327   \n",
       "17  USW00013739  PHILADELPHIA INTERNATIONAL AIRPORT, PA US  39.87327   \n",
       "18  USW00013739  PHILADELPHIA INTERNATIONAL AIRPORT, PA US  39.87327   \n",
       "19  USW00013739  PHILADELPHIA INTERNATIONAL AIRPORT, PA US  39.87327   \n",
       "\n",
       "    LONGITUDE  ELEVATION       DATE  PRCP  TAVG  TMAX  TMIN  \n",
       "0   -75.22678        3.0 1948-01-01  4.69  25.9  32.8  19.1  \n",
       "1   -75.22678        3.0 1948-02-01  2.84  31.8  40.2  23.3  \n",
       "2   -75.22678        3.0 1948-03-01  3.76  43.8  54.5  33.2  \n",
       "3   -75.22678        3.0 1948-04-01  3.93  52.0  62.2  41.7  \n",
       "4   -75.22678        3.0 1948-05-01  7.41  61.9  71.3  52.5  \n",
       "5   -75.22678        3.0 1948-06-01  4.94  71.1  81.2  61.0  \n",
       "6   -75.22678        3.0 1948-07-01  1.90  76.4  85.9  66.8  \n",
       "7   -75.22678        3.0 1948-08-01  5.96  74.6  83.9  65.3  \n",
       "8   -75.22678        3.0 1948-09-01  2.09  67.7  78.4  57.0  \n",
       "9   -75.22678        3.0 1948-10-01  1.53  55.2  64.0  46.5  \n",
       "10  -75.22678        3.0 1948-11-01  4.79  50.9  59.4  42.4  \n",
       "11  -75.22678        3.0 1948-12-01  5.26  37.4  45.1  29.6  \n",
       "12  -75.22678        3.0 1949-01-01  6.06  39.8  47.3  32.3  \n",
       "13  -75.22678        3.0 1949-02-01  3.56  39.3  47.9  30.6  \n",
       "14  -75.22678        3.0 1949-03-01  2.78  43.9  53.4  34.4  \n",
       "15  -75.22678        3.0 1949-04-01  2.36  53.4  63.5  43.3  \n",
       "16  -75.22678        3.0 1949-05-01  5.91   NaN  75.0  53.8  \n",
       "17  -75.22678        3.0 1949-06-01  0.11  74.6  85.2  64.0  \n",
       "18  -75.22678        3.0 1949-07-01  4.25  80.2  89.7  70.8  \n",
       "19  -75.22678        3.0 1949-08-01  4.53  76.2  85.9  66.5  "
      ]
     },
     "execution_count": 10,
     "metadata": {},
     "output_type": "execute_result"
    }
   ],
   "source": [
    "clean[0:20]"
   ]
  },
  {
   "cell_type": "code",
   "execution_count": 11,
   "metadata": {},
   "outputs": [],
   "source": [
    "# Name and Station don't seem to matter as we're trying to relate all this data together\n",
    "# Lattitude and Longitude isn't significant either because we're in the philadelphia area\n",
    "clean = clean.drop(['STATION','NAME','LATITUDE','LONGITUDE'],axis = 1)"
   ]
  },
  {
   "cell_type": "code",
   "execution_count": 12,
   "metadata": {},
   "outputs": [
    {
     "data": {
      "text/html": [
       "<div>\n",
       "<style scoped>\n",
       "    .dataframe tbody tr th:only-of-type {\n",
       "        vertical-align: middle;\n",
       "    }\n",
       "\n",
       "    .dataframe tbody tr th {\n",
       "        vertical-align: top;\n",
       "    }\n",
       "\n",
       "    .dataframe thead th {\n",
       "        text-align: right;\n",
       "    }\n",
       "</style>\n",
       "<table border=\"1\" class=\"dataframe\">\n",
       "  <thead>\n",
       "    <tr style=\"text-align: right;\">\n",
       "      <th></th>\n",
       "      <th>ELEVATION</th>\n",
       "      <th>DATE</th>\n",
       "      <th>PRCP</th>\n",
       "      <th>TAVG</th>\n",
       "      <th>TMAX</th>\n",
       "      <th>TMIN</th>\n",
       "    </tr>\n",
       "  </thead>\n",
       "  <tbody>\n",
       "    <tr>\n",
       "      <th>0</th>\n",
       "      <td>3.0</td>\n",
       "      <td>1948-01-01</td>\n",
       "      <td>4.69</td>\n",
       "      <td>25.9</td>\n",
       "      <td>32.8</td>\n",
       "      <td>19.1</td>\n",
       "    </tr>\n",
       "    <tr>\n",
       "      <th>1</th>\n",
       "      <td>3.0</td>\n",
       "      <td>1948-02-01</td>\n",
       "      <td>2.84</td>\n",
       "      <td>31.8</td>\n",
       "      <td>40.2</td>\n",
       "      <td>23.3</td>\n",
       "    </tr>\n",
       "    <tr>\n",
       "      <th>2</th>\n",
       "      <td>3.0</td>\n",
       "      <td>1948-03-01</td>\n",
       "      <td>3.76</td>\n",
       "      <td>43.8</td>\n",
       "      <td>54.5</td>\n",
       "      <td>33.2</td>\n",
       "    </tr>\n",
       "    <tr>\n",
       "      <th>3</th>\n",
       "      <td>3.0</td>\n",
       "      <td>1948-04-01</td>\n",
       "      <td>3.93</td>\n",
       "      <td>52.0</td>\n",
       "      <td>62.2</td>\n",
       "      <td>41.7</td>\n",
       "    </tr>\n",
       "    <tr>\n",
       "      <th>4</th>\n",
       "      <td>3.0</td>\n",
       "      <td>1948-05-01</td>\n",
       "      <td>7.41</td>\n",
       "      <td>61.9</td>\n",
       "      <td>71.3</td>\n",
       "      <td>52.5</td>\n",
       "    </tr>\n",
       "    <tr>\n",
       "      <th>5</th>\n",
       "      <td>3.0</td>\n",
       "      <td>1948-06-01</td>\n",
       "      <td>4.94</td>\n",
       "      <td>71.1</td>\n",
       "      <td>81.2</td>\n",
       "      <td>61.0</td>\n",
       "    </tr>\n",
       "    <tr>\n",
       "      <th>6</th>\n",
       "      <td>3.0</td>\n",
       "      <td>1948-07-01</td>\n",
       "      <td>1.90</td>\n",
       "      <td>76.4</td>\n",
       "      <td>85.9</td>\n",
       "      <td>66.8</td>\n",
       "    </tr>\n",
       "    <tr>\n",
       "      <th>7</th>\n",
       "      <td>3.0</td>\n",
       "      <td>1948-08-01</td>\n",
       "      <td>5.96</td>\n",
       "      <td>74.6</td>\n",
       "      <td>83.9</td>\n",
       "      <td>65.3</td>\n",
       "    </tr>\n",
       "    <tr>\n",
       "      <th>8</th>\n",
       "      <td>3.0</td>\n",
       "      <td>1948-09-01</td>\n",
       "      <td>2.09</td>\n",
       "      <td>67.7</td>\n",
       "      <td>78.4</td>\n",
       "      <td>57.0</td>\n",
       "    </tr>\n",
       "    <tr>\n",
       "      <th>9</th>\n",
       "      <td>3.0</td>\n",
       "      <td>1948-10-01</td>\n",
       "      <td>1.53</td>\n",
       "      <td>55.2</td>\n",
       "      <td>64.0</td>\n",
       "      <td>46.5</td>\n",
       "    </tr>\n",
       "    <tr>\n",
       "      <th>10</th>\n",
       "      <td>3.0</td>\n",
       "      <td>1948-11-01</td>\n",
       "      <td>4.79</td>\n",
       "      <td>50.9</td>\n",
       "      <td>59.4</td>\n",
       "      <td>42.4</td>\n",
       "    </tr>\n",
       "    <tr>\n",
       "      <th>11</th>\n",
       "      <td>3.0</td>\n",
       "      <td>1948-12-01</td>\n",
       "      <td>5.26</td>\n",
       "      <td>37.4</td>\n",
       "      <td>45.1</td>\n",
       "      <td>29.6</td>\n",
       "    </tr>\n",
       "    <tr>\n",
       "      <th>12</th>\n",
       "      <td>3.0</td>\n",
       "      <td>1949-01-01</td>\n",
       "      <td>6.06</td>\n",
       "      <td>39.8</td>\n",
       "      <td>47.3</td>\n",
       "      <td>32.3</td>\n",
       "    </tr>\n",
       "    <tr>\n",
       "      <th>13</th>\n",
       "      <td>3.0</td>\n",
       "      <td>1949-02-01</td>\n",
       "      <td>3.56</td>\n",
       "      <td>39.3</td>\n",
       "      <td>47.9</td>\n",
       "      <td>30.6</td>\n",
       "    </tr>\n",
       "    <tr>\n",
       "      <th>14</th>\n",
       "      <td>3.0</td>\n",
       "      <td>1949-03-01</td>\n",
       "      <td>2.78</td>\n",
       "      <td>43.9</td>\n",
       "      <td>53.4</td>\n",
       "      <td>34.4</td>\n",
       "    </tr>\n",
       "    <tr>\n",
       "      <th>15</th>\n",
       "      <td>3.0</td>\n",
       "      <td>1949-04-01</td>\n",
       "      <td>2.36</td>\n",
       "      <td>53.4</td>\n",
       "      <td>63.5</td>\n",
       "      <td>43.3</td>\n",
       "    </tr>\n",
       "    <tr>\n",
       "      <th>16</th>\n",
       "      <td>3.0</td>\n",
       "      <td>1949-05-01</td>\n",
       "      <td>5.91</td>\n",
       "      <td>NaN</td>\n",
       "      <td>75.0</td>\n",
       "      <td>53.8</td>\n",
       "    </tr>\n",
       "    <tr>\n",
       "      <th>17</th>\n",
       "      <td>3.0</td>\n",
       "      <td>1949-06-01</td>\n",
       "      <td>0.11</td>\n",
       "      <td>74.6</td>\n",
       "      <td>85.2</td>\n",
       "      <td>64.0</td>\n",
       "    </tr>\n",
       "    <tr>\n",
       "      <th>18</th>\n",
       "      <td>3.0</td>\n",
       "      <td>1949-07-01</td>\n",
       "      <td>4.25</td>\n",
       "      <td>80.2</td>\n",
       "      <td>89.7</td>\n",
       "      <td>70.8</td>\n",
       "    </tr>\n",
       "    <tr>\n",
       "      <th>19</th>\n",
       "      <td>3.0</td>\n",
       "      <td>1949-08-01</td>\n",
       "      <td>4.53</td>\n",
       "      <td>76.2</td>\n",
       "      <td>85.9</td>\n",
       "      <td>66.5</td>\n",
       "    </tr>\n",
       "  </tbody>\n",
       "</table>\n",
       "</div>"
      ],
      "text/plain": [
       "    ELEVATION       DATE  PRCP  TAVG  TMAX  TMIN\n",
       "0         3.0 1948-01-01  4.69  25.9  32.8  19.1\n",
       "1         3.0 1948-02-01  2.84  31.8  40.2  23.3\n",
       "2         3.0 1948-03-01  3.76  43.8  54.5  33.2\n",
       "3         3.0 1948-04-01  3.93  52.0  62.2  41.7\n",
       "4         3.0 1948-05-01  7.41  61.9  71.3  52.5\n",
       "5         3.0 1948-06-01  4.94  71.1  81.2  61.0\n",
       "6         3.0 1948-07-01  1.90  76.4  85.9  66.8\n",
       "7         3.0 1948-08-01  5.96  74.6  83.9  65.3\n",
       "8         3.0 1948-09-01  2.09  67.7  78.4  57.0\n",
       "9         3.0 1948-10-01  1.53  55.2  64.0  46.5\n",
       "10        3.0 1948-11-01  4.79  50.9  59.4  42.4\n",
       "11        3.0 1948-12-01  5.26  37.4  45.1  29.6\n",
       "12        3.0 1949-01-01  6.06  39.8  47.3  32.3\n",
       "13        3.0 1949-02-01  3.56  39.3  47.9  30.6\n",
       "14        3.0 1949-03-01  2.78  43.9  53.4  34.4\n",
       "15        3.0 1949-04-01  2.36  53.4  63.5  43.3\n",
       "16        3.0 1949-05-01  5.91   NaN  75.0  53.8\n",
       "17        3.0 1949-06-01  0.11  74.6  85.2  64.0\n",
       "18        3.0 1949-07-01  4.25  80.2  89.7  70.8\n",
       "19        3.0 1949-08-01  4.53  76.2  85.9  66.5"
      ]
     },
     "execution_count": 12,
     "metadata": {},
     "output_type": "execute_result"
    }
   ],
   "source": [
    "clean[0:20]"
   ]
  },
  {
   "cell_type": "code",
   "execution_count": 13,
   "metadata": {},
   "outputs": [
    {
     "data": {
      "text/plain": [
       "array([  3. , 114.3,  32. ])"
      ]
     },
     "execution_count": 13,
     "metadata": {},
     "output_type": "execute_result"
    }
   ],
   "source": [
    "# how unique is elevation?\n",
    "clean['ELEVATION'].unique()"
   ]
  },
  {
   "cell_type": "code",
   "execution_count": 14,
   "metadata": {},
   "outputs": [
    {
     "name": "stdout",
     "output_type": "stream",
     "text": [
      "<class 'pandas.core.frame.DataFrame'>\n",
      "RangeIndex: 3399 entries, 0 to 3398\n",
      "Data columns (total 6 columns):\n",
      "ELEVATION    3399 non-null float64\n",
      "DATE         3399 non-null datetime64[ns]\n",
      "PRCP         3331 non-null float64\n",
      "TAVG         3261 non-null float64\n",
      "TMAX         3285 non-null float64\n",
      "TMIN         3307 non-null float64\n",
      "dtypes: datetime64[ns](1), float64(5)\n",
      "memory usage: 159.4 KB\n"
     ]
    }
   ],
   "source": [
    "# check info\n",
    "clean.info()"
   ]
  },
  {
   "cell_type": "markdown",
   "metadata": {},
   "source": [
    "It is important to note that we are missing at most 138 values from each of our remaining columns. This isn't to bad overall, considering there is 3399 values total per column. It would be nice to populate these attributes to try and get a \"complete\" picture of the data.\n",
    "\n",
    "It is also interesting to note that all of the temperature columns have different amounts of missing data. The minimum temperature has the most, then the max, then the avg.\n",
    "\n",
    "The Precipitation attribute still matters a lot because rain can have massive effects on what the temperature is outside. Elevation matters due to temperatures being that temperatures can be heavily affected by what height people are at compared to others.\n",
    "\n",
    "At this point it is unclear as to whether the date matters. We could possibly use all of the remaining values to fill in the missing data points for the different temperatures."
   ]
  },
  {
   "cell_type": "code",
   "execution_count": 15,
   "metadata": {},
   "outputs": [
    {
     "data": {
      "text/plain": [
       "<matplotlib.axes._subplots.AxesSubplot at 0x11d837390>"
      ]
     },
     "execution_count": 15,
     "metadata": {},
     "output_type": "execute_result"
    },
    {
     "data": {
      "image/png": "[encoded data removed]",
      "text/plain": [
       "<Figure size 432x288 with 1 Axes>"
      ]
     },
     "metadata": {
      "needs_background": "light"
     },
     "output_type": "display_data"
    }
   ],
   "source": [
    "clean.boxplot(column = 'TAVG', by = 'PRCP')"
   ]
  },
  {
   "cell_type": "code",
   "execution_count": 16,
   "metadata": {},
   "outputs": [
    {
     "data": {
      "text/plain": [
       "<matplotlib.axes._subplots.AxesSubplot at 0x11e491f98>"
      ]
     },
     "execution_count": 16,
     "metadata": {},
     "output_type": "execute_result"
    },
    {
     "data": {
      "image/png": "[encoded data removed]",
      "text/plain": [
       "<Figure size 432x288 with 1 Axes>"
      ]
     },
     "metadata": {
      "needs_background": "light"
     },
     "output_type": "display_data"
    }
   ],
   "source": [
    "clean.boxplot(column = 'TAVG', by = 'ELEVATION')"
   ]
  },
  {
   "cell_type": "code",
   "execution_count": 17,
   "metadata": {},
   "outputs": [
    {
     "data": {
      "text/plain": [
       "<matplotlib.axes._subplots.AxesSubplot at 0x1228c3e80>"
      ]
     },
     "execution_count": 17,
     "metadata": {},
     "output_type": "execute_result"
    },
    {
     "data": {
      "image/png": "[encoded data removed]",
      "text/plain": [
       "<Figure size 432x288 with 1 Axes>"
      ]
     },
     "metadata": {
      "needs_background": "light"
     },
     "output_type": "display_data"
    }
   ],
   "source": [
    "clean.boxplot(column = 'TAVG', by = 'TMIN')"
   ]
  },
  {
   "cell_type": "code",
   "execution_count": 18,
   "metadata": {},
   "outputs": [
    {
     "data": {
      "text/plain": [
       "<matplotlib.axes._subplots.AxesSubplot at 0x122122e80>"
      ]
     },
     "execution_count": 18,
     "metadata": {},
     "output_type": "execute_result"
    },
    {
     "data": {
      "image/png": "[encoded data removed]",
      "text/plain": [
       "<Figure size 432x288 with 1 Axes>"
      ]
     },
     "metadata": {
      "needs_background": "light"
     },
     "output_type": "display_data"
    }
   ],
   "source": [
    "clean.boxplot(column = 'TAVG', by = 'TMAX')"
   ]
  },
  {
   "cell_type": "markdown",
   "metadata": {},
   "source": [
    "From the above box and whisker plots, it appears that using precipitation and elevation to create the avg is a good idea.\n",
    "\n",
    "It is interesting to note that average by min and average by max appear to look almost identical. However, it appears that there are far to many outliers to use these values to create avg temperature values."
   ]
  },
  {
   "cell_type": "code",
   "execution_count": 19,
   "metadata": {},
   "outputs": [
    {
     "data": {
      "text/html": [
       "<div>\n",
       "<style scoped>\n",
       "    .dataframe tbody tr th:only-of-type {\n",
       "        vertical-align: middle;\n",
       "    }\n",
       "\n",
       "    .dataframe tbody tr th {\n",
       "        vertical-align: top;\n",
       "    }\n",
       "\n",
       "    .dataframe thead th {\n",
       "        text-align: right;\n",
       "    }\n",
       "</style>\n",
       "<table border=\"1\" class=\"dataframe\">\n",
       "  <thead>\n",
       "    <tr style=\"text-align: right;\">\n",
       "      <th></th>\n",
       "      <th>ELEVATION</th>\n",
       "      <th>DATE</th>\n",
       "      <th>PRCP</th>\n",
       "      <th>TAVG</th>\n",
       "      <th>TMAX</th>\n",
       "      <th>TMIN</th>\n",
       "      <th>PRCP1</th>\n",
       "    </tr>\n",
       "  </thead>\n",
       "  <tbody>\n",
       "    <tr>\n",
       "      <th>0</th>\n",
       "      <td>3.0</td>\n",
       "      <td>1948-01-01</td>\n",
       "      <td>4.69</td>\n",
       "      <td>25.9</td>\n",
       "      <td>32.8</td>\n",
       "      <td>19.1</td>\n",
       "      <td>4.69</td>\n",
       "    </tr>\n",
       "    <tr>\n",
       "      <th>1</th>\n",
       "      <td>3.0</td>\n",
       "      <td>1948-02-01</td>\n",
       "      <td>2.84</td>\n",
       "      <td>31.8</td>\n",
       "      <td>40.2</td>\n",
       "      <td>23.3</td>\n",
       "      <td>2.84</td>\n",
       "    </tr>\n",
       "    <tr>\n",
       "      <th>2</th>\n",
       "      <td>3.0</td>\n",
       "      <td>1948-03-01</td>\n",
       "      <td>3.76</td>\n",
       "      <td>43.8</td>\n",
       "      <td>54.5</td>\n",
       "      <td>33.2</td>\n",
       "      <td>3.76</td>\n",
       "    </tr>\n",
       "    <tr>\n",
       "      <th>3</th>\n",
       "      <td>3.0</td>\n",
       "      <td>1948-04-01</td>\n",
       "      <td>3.93</td>\n",
       "      <td>52.0</td>\n",
       "      <td>62.2</td>\n",
       "      <td>41.7</td>\n",
       "      <td>3.93</td>\n",
       "    </tr>\n",
       "    <tr>\n",
       "      <th>4</th>\n",
       "      <td>3.0</td>\n",
       "      <td>1948-05-01</td>\n",
       "      <td>7.41</td>\n",
       "      <td>61.9</td>\n",
       "      <td>71.3</td>\n",
       "      <td>52.5</td>\n",
       "      <td>7.41</td>\n",
       "    </tr>\n",
       "    <tr>\n",
       "      <th>5</th>\n",
       "      <td>3.0</td>\n",
       "      <td>1948-06-01</td>\n",
       "      <td>4.94</td>\n",
       "      <td>71.1</td>\n",
       "      <td>81.2</td>\n",
       "      <td>61.0</td>\n",
       "      <td>4.94</td>\n",
       "    </tr>\n",
       "    <tr>\n",
       "      <th>6</th>\n",
       "      <td>3.0</td>\n",
       "      <td>1948-07-01</td>\n",
       "      <td>1.90</td>\n",
       "      <td>76.4</td>\n",
       "      <td>85.9</td>\n",
       "      <td>66.8</td>\n",
       "      <td>1.90</td>\n",
       "    </tr>\n",
       "    <tr>\n",
       "      <th>7</th>\n",
       "      <td>3.0</td>\n",
       "      <td>1948-08-01</td>\n",
       "      <td>5.96</td>\n",
       "      <td>74.6</td>\n",
       "      <td>83.9</td>\n",
       "      <td>65.3</td>\n",
       "      <td>5.96</td>\n",
       "    </tr>\n",
       "    <tr>\n",
       "      <th>8</th>\n",
       "      <td>3.0</td>\n",
       "      <td>1948-09-01</td>\n",
       "      <td>2.09</td>\n",
       "      <td>67.7</td>\n",
       "      <td>78.4</td>\n",
       "      <td>57.0</td>\n",
       "      <td>2.09</td>\n",
       "    </tr>\n",
       "    <tr>\n",
       "      <th>9</th>\n",
       "      <td>3.0</td>\n",
       "      <td>1948-10-01</td>\n",
       "      <td>1.53</td>\n",
       "      <td>55.2</td>\n",
       "      <td>64.0</td>\n",
       "      <td>46.5</td>\n",
       "      <td>1.53</td>\n",
       "    </tr>\n",
       "    <tr>\n",
       "      <th>10</th>\n",
       "      <td>3.0</td>\n",
       "      <td>1948-11-01</td>\n",
       "      <td>4.79</td>\n",
       "      <td>50.9</td>\n",
       "      <td>59.4</td>\n",
       "      <td>42.4</td>\n",
       "      <td>4.79</td>\n",
       "    </tr>\n",
       "    <tr>\n",
       "      <th>11</th>\n",
       "      <td>3.0</td>\n",
       "      <td>1948-12-01</td>\n",
       "      <td>5.26</td>\n",
       "      <td>37.4</td>\n",
       "      <td>45.1</td>\n",
       "      <td>29.6</td>\n",
       "      <td>5.26</td>\n",
       "    </tr>\n",
       "    <tr>\n",
       "      <th>12</th>\n",
       "      <td>3.0</td>\n",
       "      <td>1949-01-01</td>\n",
       "      <td>6.06</td>\n",
       "      <td>39.8</td>\n",
       "      <td>47.3</td>\n",
       "      <td>32.3</td>\n",
       "      <td>6.06</td>\n",
       "    </tr>\n",
       "    <tr>\n",
       "      <th>13</th>\n",
       "      <td>3.0</td>\n",
       "      <td>1949-02-01</td>\n",
       "      <td>3.56</td>\n",
       "      <td>39.3</td>\n",
       "      <td>47.9</td>\n",
       "      <td>30.6</td>\n",
       "      <td>3.56</td>\n",
       "    </tr>\n",
       "    <tr>\n",
       "      <th>14</th>\n",
       "      <td>3.0</td>\n",
       "      <td>1949-03-01</td>\n",
       "      <td>2.78</td>\n",
       "      <td>43.9</td>\n",
       "      <td>53.4</td>\n",
       "      <td>34.4</td>\n",
       "      <td>2.78</td>\n",
       "    </tr>\n",
       "    <tr>\n",
       "      <th>15</th>\n",
       "      <td>3.0</td>\n",
       "      <td>1949-04-01</td>\n",
       "      <td>2.36</td>\n",
       "      <td>53.4</td>\n",
       "      <td>63.5</td>\n",
       "      <td>43.3</td>\n",
       "      <td>2.36</td>\n",
       "    </tr>\n",
       "    <tr>\n",
       "      <th>16</th>\n",
       "      <td>3.0</td>\n",
       "      <td>1949-05-01</td>\n",
       "      <td>5.91</td>\n",
       "      <td>NaN</td>\n",
       "      <td>75.0</td>\n",
       "      <td>53.8</td>\n",
       "      <td>5.91</td>\n",
       "    </tr>\n",
       "    <tr>\n",
       "      <th>17</th>\n",
       "      <td>3.0</td>\n",
       "      <td>1949-06-01</td>\n",
       "      <td>0.11</td>\n",
       "      <td>74.6</td>\n",
       "      <td>85.2</td>\n",
       "      <td>64.0</td>\n",
       "      <td>0.11</td>\n",
       "    </tr>\n",
       "    <tr>\n",
       "      <th>18</th>\n",
       "      <td>3.0</td>\n",
       "      <td>1949-07-01</td>\n",
       "      <td>4.25</td>\n",
       "      <td>80.2</td>\n",
       "      <td>89.7</td>\n",
       "      <td>70.8</td>\n",
       "      <td>4.25</td>\n",
       "    </tr>\n",
       "    <tr>\n",
       "      <th>19</th>\n",
       "      <td>3.0</td>\n",
       "      <td>1949-08-01</td>\n",
       "      <td>4.53</td>\n",
       "      <td>76.2</td>\n",
       "      <td>85.9</td>\n",
       "      <td>66.5</td>\n",
       "      <td>4.53</td>\n",
       "    </tr>\n",
       "  </tbody>\n",
       "</table>\n",
       "</div>"
      ],
      "text/plain": [
       "    ELEVATION       DATE  PRCP  TAVG  TMAX  TMIN  PRCP1\n",
       "0         3.0 1948-01-01  4.69  25.9  32.8  19.1   4.69\n",
       "1         3.0 1948-02-01  2.84  31.8  40.2  23.3   2.84\n",
       "2         3.0 1948-03-01  3.76  43.8  54.5  33.2   3.76\n",
       "3         3.0 1948-04-01  3.93  52.0  62.2  41.7   3.93\n",
       "4         3.0 1948-05-01  7.41  61.9  71.3  52.5   7.41\n",
       "5         3.0 1948-06-01  4.94  71.1  81.2  61.0   4.94\n",
       "6         3.0 1948-07-01  1.90  76.4  85.9  66.8   1.90\n",
       "7         3.0 1948-08-01  5.96  74.6  83.9  65.3   5.96\n",
       "8         3.0 1948-09-01  2.09  67.7  78.4  57.0   2.09\n",
       "9         3.0 1948-10-01  1.53  55.2  64.0  46.5   1.53\n",
       "10        3.0 1948-11-01  4.79  50.9  59.4  42.4   4.79\n",
       "11        3.0 1948-12-01  5.26  37.4  45.1  29.6   5.26\n",
       "12        3.0 1949-01-01  6.06  39.8  47.3  32.3   6.06\n",
       "13        3.0 1949-02-01  3.56  39.3  47.9  30.6   3.56\n",
       "14        3.0 1949-03-01  2.78  43.9  53.4  34.4   2.78\n",
       "15        3.0 1949-04-01  2.36  53.4  63.5  43.3   2.36\n",
       "16        3.0 1949-05-01  5.91   NaN  75.0  53.8   5.91\n",
       "17        3.0 1949-06-01  0.11  74.6  85.2  64.0   0.11\n",
       "18        3.0 1949-07-01  4.25  80.2  89.7  70.8   4.25\n",
       "19        3.0 1949-08-01  4.53  76.2  85.9  66.5   4.53"
      ]
     },
     "execution_count": 19,
     "metadata": {},
     "output_type": "execute_result"
    }
   ],
   "source": [
    "clean['PRCP1'] = clean['PRCP']\n",
    "\n",
    "meanPRCP = clean.PRCP.mean()\n",
    "clean['PRCP1'].fillna(meanPRCP, inplace = True)\n",
    "clean[0:20]"
   ]
  },
  {
   "cell_type": "code",
   "execution_count": 20,
   "metadata": {},
   "outputs": [
    {
     "name": "stdout",
     "output_type": "stream",
     "text": [
      "<class 'pandas.core.frame.DataFrame'>\n",
      "RangeIndex: 3399 entries, 0 to 3398\n",
      "Data columns (total 7 columns):\n",
      "ELEVATION    3399 non-null float64\n",
      "DATE         3399 non-null datetime64[ns]\n",
      "PRCP         3331 non-null float64\n",
      "TAVG         3261 non-null float64\n",
      "TMAX         3285 non-null float64\n",
      "TMIN         3307 non-null float64\n",
      "PRCP1        3399 non-null float64\n",
      "dtypes: datetime64[ns](1), float64(6)\n",
      "memory usage: 186.0 KB\n"
     ]
    }
   ],
   "source": [
    "clean.info()"
   ]
  },
  {
   "cell_type": "code",
   "execution_count": 21,
   "metadata": {},
   "outputs": [
    {
     "data": {
      "text/plain": [
       "array(['1948-01-01T00:00:00.000000000', '1948-02-01T00:00:00.000000000',\n",
       "       '1948-03-01T00:00:00.000000000', ...,\n",
       "       '1925-08-01T00:00:00.000000000', '1927-11-01T00:00:00.000000000',\n",
       "       '1934-08-01T00:00:00.000000000'], dtype='datetime64[ns]')"
      ]
     },
     "execution_count": 21,
     "metadata": {},
     "output_type": "execute_result"
    }
   ],
   "source": [
    "# Must figure out how to make multiple tables based on month\n",
    "clean['DATE'].unique()"
   ]
  },
  {
   "cell_type": "code",
   "execution_count": 22,
   "metadata": {},
   "outputs": [],
   "source": [
    "tminAVG1 = clean.groupby(clean['DATE'].dt.month)['TMIN'].mean()[1]\n",
    "tminAVG2 = clean.groupby(clean['DATE'].dt.month)['TMIN'].mean()[2]\n",
    "tminAVG3 = clean.groupby(clean['DATE'].dt.month)['TMIN'].mean()[3]\n",
    "tminAVG4 = clean.groupby(clean['DATE'].dt.month)['TMIN'].mean()[4]\n",
    "tminAVG5 = clean.groupby(clean['DATE'].dt.month)['TMIN'].mean()[5]\n",
    "tminAVG6 = clean.groupby(clean['DATE'].dt.month)['TMIN'].mean()[6]\n",
    "tminAVG7 = clean.groupby(clean['DATE'].dt.month)['TMIN'].mean()[7]\n",
    "tminAVG8 = clean.groupby(clean['DATE'].dt.month)['TMIN'].mean()[8]\n",
    "tminAVG9 = clean.groupby(clean['DATE'].dt.month)['TMIN'].mean()[9]\n",
    "tminAVG10 = clean.groupby(clean['DATE'].dt.month)['TMIN'].mean()[10]\n",
    "tminAVG11 = clean.groupby(clean['DATE'].dt.month)['TMIN'].mean()[11]\n",
    "tminAVG12 = clean.groupby(clean['DATE'].dt.month)['TMIN'].mean()[12]"
   ]
  },
  {
   "cell_type": "code",
   "execution_count": 23,
   "metadata": {},
   "outputs": [],
   "source": [
    "tmaxAVG1 = clean.groupby(clean['DATE'].dt.month)['TMAX'].mean()[1]\n",
    "tmaxAVG2 = clean.groupby(clean['DATE'].dt.month)['TMAX'].mean()[2]\n",
    "tmaxAVG3 = clean.groupby(clean['DATE'].dt.month)['TMAX'].mean()[3]\n",
    "tmaxAVG4 = clean.groupby(clean['DATE'].dt.month)['TMAX'].mean()[4]\n",
    "tmaxAVG5 = clean.groupby(clean['DATE'].dt.month)['TMAX'].mean()[5]\n",
    "tmaxAVG6 = clean.groupby(clean['DATE'].dt.month)['TMAX'].mean()[6]\n",
    "tmaxAVG7 = clean.groupby(clean['DATE'].dt.month)['TMAX'].mean()[7]\n",
    "tmaxAVG8 = clean.groupby(clean['DATE'].dt.month)['TMAX'].mean()[8]\n",
    "tmaxAVG9 = clean.groupby(clean['DATE'].dt.month)['TMAX'].mean()[9]\n",
    "tmaxAVG10 = clean.groupby(clean['DATE'].dt.month)['TMAX'].mean()[10]\n",
    "tmaxAVG11 = clean.groupby(clean['DATE'].dt.month)['TMAX'].mean()[11]\n",
    "tmaxAVG12 = clean.groupby(clean['DATE'].dt.month)['TMAX'].mean()[12]"
   ]
  },
  {
   "cell_type": "code",
   "execution_count": 24,
   "metadata": {},
   "outputs": [],
   "source": [
    "tavgAVG1 = clean.groupby(clean['DATE'].dt.month)['TAVG'].mean()[1]\n",
    "tavgAVG2 = clean.groupby(clean['DATE'].dt.month)['TAVG'].mean()[2]\n",
    "tavgAVG3 = clean.groupby(clean['DATE'].dt.month)['TAVG'].mean()[3]\n",
    "tavgAVG4 = clean.groupby(clean['DATE'].dt.month)['TAVG'].mean()[4]\n",
    "tavgAVG5 = clean.groupby(clean['DATE'].dt.month)['TAVG'].mean()[5]\n",
    "tavgAVG6 = clean.groupby(clean['DATE'].dt.month)['TAVG'].mean()[6]\n",
    "tavgAVG7 = clean.groupby(clean['DATE'].dt.month)['TAVG'].mean()[7]\n",
    "tavgAVG8 = clean.groupby(clean['DATE'].dt.month)['TAVG'].mean()[8]\n",
    "tavgAVG9 = clean.groupby(clean['DATE'].dt.month)['TAVG'].mean()[9]\n",
    "tavgAVG10 = clean.groupby(clean['DATE'].dt.month)['TAVG'].mean()[10]\n",
    "tavgAVG11 = clean.groupby(clean['DATE'].dt.month)['TAVG'].mean()[11]\n",
    "tavgAVG12 = clean.groupby(clean['DATE'].dt.month)['TAVG'].mean()[12]"
   ]
  },
  {
   "cell_type": "code",
   "execution_count": 25,
   "metadata": {},
   "outputs": [],
   "source": [
    "prcpAVG1 = clean.groupby(clean['DATE'].dt.month)['PRCP'].mean()[1]\n",
    "prcpAVG2 = clean.groupby(clean['DATE'].dt.month)['PRCP'].mean()[2]\n",
    "prcpAVG3 = clean.groupby(clean['DATE'].dt.month)['PRCP'].mean()[3]\n",
    "prcpAVG4 = clean.groupby(clean['DATE'].dt.month)['PRCP'].mean()[4]\n",
    "prcpAVG5 = clean.groupby(clean['DATE'].dt.month)['PRCP'].mean()[5]\n",
    "prcpAVG6 = clean.groupby(clean['DATE'].dt.month)['PRCP'].mean()[6]\n",
    "prcpAVG7 = clean.groupby(clean['DATE'].dt.month)['PRCP'].mean()[7]\n",
    "prcpAVG8 = clean.groupby(clean['DATE'].dt.month)['PRCP'].mean()[8]\n",
    "prcpAVG9 = clean.groupby(clean['DATE'].dt.month)['PRCP'].mean()[9]\n",
    "prcpAVG10 = clean.groupby(clean['DATE'].dt.month)['PRCP'].mean()[10]\n",
    "prcpAVG11 = clean.groupby(clean['DATE'].dt.month)['PRCP'].mean()[11]\n",
    "prcpAVG12 = clean.groupby(clean['DATE'].dt.month)['PRCP'].mean()[12]"
   ]
  },
  {
   "cell_type": "code",
   "execution_count": 26,
   "metadata": {},
   "outputs": [
    {
     "name": "stdout",
     "output_type": "stream",
     "text": [
      "<class 'pandas.core.frame.DataFrame'>\n",
      "RangeIndex: 3399 entries, 0 to 3398\n",
      "Data columns (total 8 columns):\n",
      "ELEVATION    3399 non-null float64\n",
      "DATE         3399 non-null datetime64[ns]\n",
      "PRCP         3331 non-null float64\n",
      "TAVG         3261 non-null float64\n",
      "TMAX         3285 non-null float64\n",
      "TMIN         3307 non-null float64\n",
      "PRCP1        3399 non-null float64\n",
      "MONTH        3399 non-null int64\n",
      "dtypes: datetime64[ns](1), float64(6), int64(1)\n",
      "memory usage: 212.5 KB\n"
     ]
    }
   ],
   "source": [
    "clean['MONTH'] = clean['DATE'].dt.month\n",
    "clean.info()"
   ]
  },
  {
   "cell_type": "code",
   "execution_count": 27,
   "metadata": {},
   "outputs": [],
   "source": [
    "# we have averages now for every column that had missing values by month\n",
    "# now need a way to specifically impute these averages\n",
    "clean['PRCP2'] = clean['PRCP']\n",
    "clean['TAVG2'] = clean['TAVG']\n",
    "clean['TMIN2'] = clean['TMIN']\n",
    "clean['TMAX2'] = clean['TMAX']"
   ]
  },
  {
   "cell_type": "code",
   "execution_count": 28,
   "metadata": {},
   "outputs": [],
   "source": [
    "# Put all of these averages into their proper places\n",
    "clean.loc[clean['MONTH'] == 1 & clean['PRCP2'].isnull()] = prcpAVG1\n",
    "clean.loc[clean['MONTH'] == 1 & clean['TAVG2'].isnull()] = tavgAVG1\n",
    "clean.loc[clean['MONTH'] == 1 & clean['TMIN2'].isnull()] = tminAVG1\n",
    "clean.loc[clean['MONTH'] == 1 & clean['TMAX2'].isnull()] = tmaxAVG1"
   ]
  },
  {
   "cell_type": "markdown",
   "metadata": {},
   "source": [
    "Data has been imputed for January"
   ]
  },
  {
   "cell_type": "code",
   "execution_count": 29,
   "metadata": {},
   "outputs": [],
   "source": [
    "clean.loc[clean['MONTH'] == 2 & clean['PRCP2'].isnull()] = prcpAVG2\n",
    "clean.loc[clean['MONTH'] == 2 & clean['TAVG2'].isnull()] = tavgAVG2\n",
    "clean.loc[clean['MONTH'] == 2 & clean['TMIN2'].isnull()] = tminAVG2\n",
    "clean.loc[clean['MONTH'] == 2 & clean['TMAX2'].isnull()] = tmaxAVG2"
   ]
  },
  {
   "cell_type": "markdown",
   "metadata": {},
   "source": [
    "Data has been imputed for February"
   ]
  },
  {
   "cell_type": "code",
   "execution_count": 30,
   "metadata": {},
   "outputs": [],
   "source": [
    "clean.loc[clean['MONTH'] == 3 & clean['PRCP2'].isnull()] = prcpAVG3\n",
    "clean.loc[clean['MONTH'] == 3 & clean['TAVG2'].isnull()] = tavgAVG3\n",
    "clean.loc[clean['MONTH'] == 3 & clean['TMIN2'].isnull()] = tminAVG3\n",
    "clean.loc[clean['MONTH'] == 3 & clean['TMAX2'].isnull()] = tmaxAVG3"
   ]
  },
  {
   "cell_type": "markdown",
   "metadata": {},
   "source": [
    "Data has been imputed for March"
   ]
  },
  {
   "cell_type": "code",
   "execution_count": 31,
   "metadata": {},
   "outputs": [],
   "source": [
    "clean.loc[clean['MONTH'] == 4 & clean['PRCP2'].isnull()] = prcpAVG4\n",
    "clean.loc[clean['MONTH'] == 4 & clean['TAVG2'].isnull()] = tavgAVG4\n",
    "clean.loc[clean['MONTH'] == 4 & clean['TMIN2'].isnull()] = tminAVG4\n",
    "clean.loc[clean['MONTH'] == 4 & clean['TMAX2'].isnull()] = tmaxAVG4"
   ]
  },
  {
   "cell_type": "markdown",
   "metadata": {},
   "source": [
    "Data has been imputed for April"
   ]
  },
  {
   "cell_type": "code",
   "execution_count": 32,
   "metadata": {},
   "outputs": [],
   "source": [
    "clean.loc[clean['MONTH'] == 5 & clean['PRCP2'].isnull()] = prcpAVG5\n",
    "clean.loc[clean['MONTH'] == 5 & clean['TAVG2'].isnull()] = tavgAVG5\n",
    "clean.loc[clean['MONTH'] == 5 & clean['TMIN2'].isnull()] = tminAVG5\n",
    "clean.loc[clean['MONTH'] == 5 & clean['TMAX2'].isnull()] = tmaxAVG5"
   ]
  },
  {
   "cell_type": "markdown",
   "metadata": {},
   "source": [
    "Data has been imputed for May"
   ]
  },
  {
   "cell_type": "code",
   "execution_count": 33,
   "metadata": {},
   "outputs": [],
   "source": [
    "clean.loc[clean['MONTH'] == 6 & clean['PRCP2'].isnull()] = prcpAVG6\n",
    "clean.loc[clean['MONTH'] == 6 & clean['TAVG2'].isnull()] = tavgAVG6\n",
    "clean.loc[clean['MONTH'] == 6 & clean['TMIN2'].isnull()] = tminAVG6\n",
    "clean.loc[clean['MONTH'] == 6 & clean['TMAX2'].isnull()] = tmaxAVG6"
   ]
  },
  {
   "cell_type": "markdown",
   "metadata": {},
   "source": [
    "Data has been imputed for June"
   ]
  },
  {
   "cell_type": "code",
   "execution_count": 34,
   "metadata": {},
   "outputs": [],
   "source": [
    "clean.loc[clean['MONTH'] == 7 & clean['PRCP2'].isnull()] = prcpAVG7\n",
    "clean.loc[clean['MONTH'] == 7 & clean['TAVG2'].isnull()] = tavgAVG7\n",
    "clean.loc[clean['MONTH'] == 7 & clean['TMIN2'].isnull()] = tminAVG7\n",
    "clean.loc[clean['MONTH'] == 7 & clean['TMAX2'].isnull()] = tmaxAVG7"
   ]
  },
  {
   "cell_type": "markdown",
   "metadata": {},
   "source": [
    "Data has been imputed for July"
   ]
  },
  {
   "cell_type": "code",
   "execution_count": 35,
   "metadata": {},
   "outputs": [],
   "source": [
    "clean.loc[clean['MONTH'] == 8 & clean['PRCP2'].isnull()] = prcpAVG8\n",
    "clean.loc[clean['MONTH'] == 8 & clean['TAVG2'].isnull()] = tavgAVG8\n",
    "clean.loc[clean['MONTH'] == 8 & clean['TMIN2'].isnull()] = tminAVG8\n",
    "clean.loc[clean['MONTH'] == 8 & clean['TMAX2'].isnull()] = tmaxAVG8"
   ]
  },
  {
   "cell_type": "markdown",
   "metadata": {},
   "source": [
    "Data has been imputed for August"
   ]
  },
  {
   "cell_type": "code",
   "execution_count": 36,
   "metadata": {},
   "outputs": [],
   "source": [
    "clean.loc[clean['MONTH'] == 9 & clean['PRCP2'].isnull()] = prcpAVG9\n",
    "clean.loc[clean['MONTH'] == 9 & clean['TAVG2'].isnull()] = tavgAVG9\n",
    "clean.loc[clean['MONTH'] == 9 & clean['TMIN2'].isnull()] = tminAVG9\n",
    "clean.loc[clean['MONTH'] == 9 & clean['TMAX2'].isnull()] = tmaxAVG9"
   ]
  },
  {
   "cell_type": "markdown",
   "metadata": {},
   "source": [
    "Data has been imputed for September"
   ]
  },
  {
   "cell_type": "code",
   "execution_count": 37,
   "metadata": {},
   "outputs": [],
   "source": [
    "clean.loc[clean['MONTH'] == 10 & clean['PRCP2'].isnull()] = prcpAVG10\n",
    "clean.loc[clean['MONTH'] == 10 & clean['TAVG2'].isnull()] = tavgAVG10\n",
    "clean.loc[clean['MONTH'] == 10 & clean['TMIN2'].isnull()] = tminAVG10\n",
    "clean.loc[clean['MONTH'] == 10 & clean['TMAX2'].isnull()] = tmaxAVG10"
   ]
  },
  {
   "cell_type": "markdown",
   "metadata": {},
   "source": [
    "Data has been imputed for October"
   ]
  },
  {
   "cell_type": "code",
   "execution_count": 38,
   "metadata": {},
   "outputs": [],
   "source": [
    "clean.loc[clean['MONTH'] == 11 & clean['PRCP2'].isnull()] = prcpAVG11\n",
    "clean.loc[clean['MONTH'] == 11 & clean['TAVG2'].isnull()] = tavgAVG11\n",
    "clean.loc[clean['MONTH'] == 11 & clean['TMIN2'].isnull()] = tminAVG11\n",
    "clean.loc[clean['MONTH'] == 11 & clean['TMAX2'].isnull()] = tmaxAVG11"
   ]
  },
  {
   "cell_type": "markdown",
   "metadata": {},
   "source": [
    "Data has been imputed for November"
   ]
  },
  {
   "cell_type": "code",
   "execution_count": 39,
   "metadata": {},
   "outputs": [],
   "source": [
    "clean.loc[clean['MONTH'] == 12 & clean['PRCP2'].isnull()] = prcpAVG12\n",
    "clean.loc[clean['MONTH'] == 12 & clean['TAVG2'].isnull()] = tavgAVG12\n",
    "clean.loc[clean['MONTH'] == 12 & clean['TMIN2'].isnull()] = tminAVG12\n",
    "clean.loc[clean['MONTH'] == 12 & clean['TMAX2'].isnull()] = tmaxAVG12"
   ]
  },
  {
   "cell_type": "markdown",
   "metadata": {},
   "source": [
    "Data has been imputed for December"
   ]
  },
  {
   "cell_type": "markdown",
   "metadata": {},
   "source": [
    "# Now we can make complete fancy charts\n",
    "With all the averages populated in we can use charts to show a more \"accurate\" representation of what the data looks like."
   ]
  },
  {
   "cell_type": "code",
   "execution_count": 40,
   "metadata": {},
   "outputs": [
    {
     "data": {
      "text/plain": [
       "array([[<matplotlib.axes._subplots.AxesSubplot object at 0x1264652b0>,\n",
       "        <matplotlib.axes._subplots.AxesSubplot object at 0x129954908>,\n",
       "        <matplotlib.axes._subplots.AxesSubplot object at 0x12994ba20>,\n",
       "        <matplotlib.axes._subplots.AxesSubplot object at 0x12a143128>],\n",
       "       [<matplotlib.axes._subplots.AxesSubplot object at 0x129fc2278>,\n",
       "        <matplotlib.axes._subplots.AxesSubplot object at 0x129ffc3c8>,\n",
       "        <matplotlib.axes._subplots.AxesSubplot object at 0x12a1aa518>,\n",
       "        <matplotlib.axes._subplots.AxesSubplot object at 0x12a12a6a0>],\n",
       "       [<matplotlib.axes._subplots.AxesSubplot object at 0x12a12a6d8>,\n",
       "        <matplotlib.axes._subplots.AxesSubplot object at 0x129f89b00>,\n",
       "        <matplotlib.axes._subplots.AxesSubplot object at 0x12a0490f0>,\n",
       "        <matplotlib.axes._subplots.AxesSubplot object at 0x12a07a6a0>],\n",
       "       [<matplotlib.axes._subplots.AxesSubplot object at 0x12a0aac50>,\n",
       "        <matplotlib.axes._subplots.AxesSubplot object at 0x12a0ea240>,\n",
       "        <matplotlib.axes._subplots.AxesSubplot object at 0x12a28e7f0>,\n",
       "        <matplotlib.axes._subplots.AxesSubplot object at 0x1296ebda0>]],\n",
       "      dtype=object)"
      ]
     },
     "execution_count": 40,
     "metadata": {},
     "output_type": "execute_result"
    },
    {
     "data": {
      "image/png": "[encoded data removed]",
      "text/plain": [
       "<Figure size 432x288 with 16 Axes>"
      ]
     },
     "metadata": {
      "needs_background": "light"
     },
     "output_type": "display_data"
    }
   ],
   "source": [
    "clean.hist(column='TAVG2',by='MONTH',bins=15)"
   ]
  },
  {
   "cell_type": "code",
   "execution_count": 41,
   "metadata": {},
   "outputs": [
    {
     "data": {
      "text/plain": [
       "array([[<matplotlib.axes._subplots.AxesSubplot object at 0x12a50b6d8>,\n",
       "        <matplotlib.axes._subplots.AxesSubplot object at 0x12a3c8da0>,\n",
       "        <matplotlib.axes._subplots.AxesSubplot object at 0x12a72df60>,\n",
       "        <matplotlib.axes._subplots.AxesSubplot object at 0x12a624550>],\n",
       "       [<matplotlib.axes._subplots.AxesSubplot object at 0x12a7bfb00>,\n",
       "        <matplotlib.axes._subplots.AxesSubplot object at 0x12a7fc0f0>,\n",
       "        <matplotlib.axes._subplots.AxesSubplot object at 0x12a82d6a0>,\n",
       "        <matplotlib.axes._subplots.AxesSubplot object at 0x12a85ec88>],\n",
       "       [<matplotlib.axes._subplots.AxesSubplot object at 0x12a85ecc0>,\n",
       "        <matplotlib.axes._subplots.AxesSubplot object at 0x12a8ce7f0>,\n",
       "        <matplotlib.axes._subplots.AxesSubplot object at 0x12a8ffda0>,\n",
       "        <matplotlib.axes._subplots.AxesSubplot object at 0x12a93d390>],\n",
       "       [<matplotlib.axes._subplots.AxesSubplot object at 0x12a96d940>,\n",
       "        <matplotlib.axes._subplots.AxesSubplot object at 0x12a9a2ef0>,\n",
       "        <matplotlib.axes._subplots.AxesSubplot object at 0x12a9de4e0>,\n",
       "        <matplotlib.axes._subplots.AxesSubplot object at 0x12aa0ea90>]],\n",
       "      dtype=object)"
      ]
     },
     "execution_count": 41,
     "metadata": {},
     "output_type": "execute_result"
    },
    {
     "data": {
      "image/png": "[encoded data removed]",
      "text/plain": [
       "<Figure size 432x288 with 16 Axes>"
      ]
     },
     "metadata": {
      "needs_background": "light"
     },
     "output_type": "display_data"
    }
   ],
   "source": [
    "clean.hist(column='TMIN2',by='MONTH',bins=15)"
   ]
  },
  {
   "cell_type": "code",
   "execution_count": 42,
   "metadata": {},
   "outputs": [
    {
     "data": {
      "text/plain": [
       "array([[<matplotlib.axes._subplots.AxesSubplot object at 0x12aa9bbe0>,\n",
       "        <matplotlib.axes._subplots.AxesSubplot object at 0x12adf1128>,\n",
       "        <matplotlib.axes._subplots.AxesSubplot object at 0x12ad32b00>,\n",
       "        <matplotlib.axes._subplots.AxesSubplot object at 0x12ad630f0>],\n",
       "       [<matplotlib.axes._subplots.AxesSubplot object at 0x12aefe6a0>,\n",
       "        <matplotlib.axes._subplots.AxesSubplot object at 0x12af31c50>,\n",
       "        <matplotlib.axes._subplots.AxesSubplot object at 0x12af6e240>,\n",
       "        <matplotlib.axes._subplots.AxesSubplot object at 0x12af9e828>],\n",
       "       [<matplotlib.axes._subplots.AxesSubplot object at 0x12af9e860>,\n",
       "        <matplotlib.axes._subplots.AxesSubplot object at 0x12b00f390>,\n",
       "        <matplotlib.axes._subplots.AxesSubplot object at 0x12b03d940>,\n",
       "        <matplotlib.axes._subplots.AxesSubplot object at 0x12b072ef0>],\n",
       "       [<matplotlib.axes._subplots.AxesSubplot object at 0x12b0ae4e0>,\n",
       "        <matplotlib.axes._subplots.AxesSubplot object at 0x12b0e0a90>,\n",
       "        <matplotlib.axes._subplots.AxesSubplot object at 0x12b120080>,\n",
       "        <matplotlib.axes._subplots.AxesSubplot object at 0x12b14d630>]],\n",
       "      dtype=object)"
      ]
     },
     "execution_count": 42,
     "metadata": {},
     "output_type": "execute_result"
    },
    {
     "data": {
      "image/png": "[encoded data removed]",
      "text/plain": [
       "<Figure size 432x288 with 16 Axes>"
      ]
     },
     "metadata": {
      "needs_background": "light"
     },
     "output_type": "display_data"
    }
   ],
   "source": [
    "clean.hist(column='TMAX2',by='MONTH',bins=10)"
   ]
  },
  {
   "cell_type": "code",
   "execution_count": 46,
   "metadata": {},
   "outputs": [
    {
     "data": {
      "text/plain": [
       "array([[<matplotlib.axes._subplots.AxesSubplot object at 0x1371eda20>,\n",
       "        <matplotlib.axes._subplots.AxesSubplot object at 0x1373295c0>,\n",
       "        <matplotlib.axes._subplots.AxesSubplot object at 0x13735cf60>],\n",
       "       [<matplotlib.axes._subplots.AxesSubplot object at 0x137414550>,\n",
       "        <matplotlib.axes._subplots.AxesSubplot object at 0x137445b00>,\n",
       "        <matplotlib.axes._subplots.AxesSubplot object at 0x1374830f0>],\n",
       "       [<matplotlib.axes._subplots.AxesSubplot object at 0x1374b56a0>,\n",
       "        <matplotlib.axes._subplots.AxesSubplot object at 0x1374e7c88>,\n",
       "        <matplotlib.axes._subplots.AxesSubplot object at 0x1374e7cc0>]],\n",
       "      dtype=object)"
      ]
     },
     "execution_count": 46,
     "metadata": {},
     "output_type": "execute_result"
    },
    {
     "data": {
      "image/png": "[encoded data removed]",
      "text/plain": [
       "<Figure size 432x288 with 9 Axes>"
      ]
     },
     "metadata": {
      "needs_background": "light"
     },
     "output_type": "display_data"
    }
   ],
   "source": [
    "clean.hist(column='TAVG2',by='ELEVATION',bins=15)"
   ]
  },
  {
   "cell_type": "markdown",
   "metadata": {},
   "source": [
    "We can see that elevation played a role in the temperature average from the above histograms."
   ]
  },
  {
   "cell_type": "code",
   "execution_count": 48,
   "metadata": {},
   "outputs": [
    {
     "data": {
      "text/plain": [
       "<matplotlib.axes._subplots.AxesSubplot at 0x1446324a8>"
      ]
     },
     "execution_count": 48,
     "metadata": {},
     "output_type": "execute_result"
    },
    {
     "data": {
      "image/png": "[encoded data removed]",
      "text/plain": [
       "<Figure size 432x288 with 1 Axes>"
      ]
     },
     "metadata": {
      "needs_background": "light"
     },
     "output_type": "display_data"
    }
   ],
   "source": [
    "clean.plot.scatter(x = 'MONTH', y = 'TAVG2')"
   ]
  },
  {
   "cell_type": "code",
   "execution_count": 49,
   "metadata": {},
   "outputs": [
    {
     "data": {
      "text/plain": [
       "<matplotlib.axes._subplots.AxesSubplot at 0x144758198>"
      ]
     },
     "execution_count": 49,
     "metadata": {},
     "output_type": "execute_result"
    },
    {
     "data": {
      "image/png": "[encoded data removed]",
      "text/plain": [
       "<Figure size 432x288 with 1 Axes>"
      ]
     },
     "metadata": {
      "needs_background": "light"
     },
     "output_type": "display_data"
    }
   ],
   "source": [
    "clean.plot.scatter(x = 'MONTH', y = 'TMIN2')"
   ]
  },
  {
   "cell_type": "code",
   "execution_count": 50,
   "metadata": {},
   "outputs": [
    {
     "data": {
      "text/plain": [
       "<matplotlib.axes._subplots.AxesSubplot at 0x14484a5c0>"
      ]
     },
     "execution_count": 50,
     "metadata": {},
     "output_type": "execute_result"
    },
    {
     "data": {
      "image/png": "[encoded data removed]",
      "text/plain": [
       "<Figure size 432x288 with 1 Axes>"
      ]
     },
     "metadata": {
      "needs_background": "light"
     },
     "output_type": "display_data"
    }
   ],
   "source": [
    "clean.plot.scatter(x = 'MONTH', y = 'TMAX2')"
   ]
  },
  {
   "cell_type": "markdown",
   "metadata": {},
   "source": [
    "As can be seen by the above plots. The temperatures are fairly normal throughout all the moths. The three arcs that each section has is probably affected by the elevation and the 3 different station locations. It is also interesting to note that there are months in this dataset that don't belong, which was missed somehow during the cleaning. These three outliers do not necessarily impact the pattern that can be seen within the plots above."
   ]
  },
  {
   "cell_type": "code",
   "execution_count": 51,
   "metadata": {},
   "outputs": [
    {
     "data": {
      "text/plain": [
       "<matplotlib.axes._subplots.AxesSubplot at 0x1448fa9b0>"
      ]
     },
     "execution_count": 51,
     "metadata": {},
     "output_type": "execute_result"
    },
    {
     "data": {
      "image/png": "[encoded data removed]",
      "text/plain": [
       "<Figure size 432x288 with 1 Axes>"
      ]
     },
     "metadata": {
      "needs_background": "light"
     },
     "output_type": "display_data"
    }
   ],
   "source": [
    "clean.plot.scatter(x = 'ELEVATION', y = 'TMAX2')"
   ]
  },
  {
   "cell_type": "code",
   "execution_count": 52,
   "metadata": {},
   "outputs": [
    {
     "data": {
      "text/plain": [
       "<matplotlib.axes._subplots.AxesSubplot at 0x144a28860>"
      ]
     },
     "execution_count": 52,
     "metadata": {},
     "output_type": "execute_result"
    },
    {
     "data": {
      "image/png": "[encoded data removed]",
      "text/plain": [
       "<Figure size 432x288 with 1 Axes>"
      ]
     },
     "metadata": {
      "needs_background": "light"
     },
     "output_type": "display_data"
    }
   ],
   "source": [
    "clean.plot.scatter(x = 'ELEVATION', y = 'TAVG2')"
   ]
  },
  {
   "cell_type": "code",
   "execution_count": 53,
   "metadata": {},
   "outputs": [
    {
     "data": {
      "text/plain": [
       "<matplotlib.axes._subplots.AxesSubplot at 0x144ac1ba8>"
      ]
     },
     "execution_count": 53,
     "metadata": {},
     "output_type": "execute_result"
    },
    {
     "data": {
      "image/png": "[encoded data removed]",
      "text/plain": [
       "<Figure size 432x288 with 1 Axes>"
      ]
     },
     "metadata": {
      "needs_background": "light"
     },
     "output_type": "display_data"
    }
   ],
   "source": [
    "clean.plot.scatter(x = 'ELEVATION', y = 'TMIN2')"
   ]
  },
  {
   "cell_type": "markdown",
   "metadata": {},
   "source": [
    "This shows that elevation had a neglible impact on the temperature. It should be noted that at the highest elevation, the temperature seems fairly regular. At the lower elevations, we may be prone to extreme outliers that are unexpected."
   ]
  },
  {
   "cell_type": "code",
   "execution_count": 54,
   "metadata": {},
   "outputs": [
    {
     "data": {
      "text/plain": [
       "<matplotlib.axes._subplots.AxesSubplot at 0x144c5ccc0>"
      ]
     },
     "execution_count": 54,
     "metadata": {},
     "output_type": "execute_result"
    },
    {
     "data": {
      "image/png": "[encoded data removed]",
      "text/plain": [
       "<Figure size 432x288 with 1 Axes>"
      ]
     },
     "metadata": {
      "needs_background": "light"
     },
     "output_type": "display_data"
    }
   ],
   "source": [
    "clean.plot.scatter(x = 'PRCP2', y = 'TMIN2')"
   ]
  },
  {
   "cell_type": "code",
   "execution_count": 55,
   "metadata": {},
   "outputs": [
    {
     "data": {
      "text/plain": [
       "<matplotlib.axes._subplots.AxesSubplot at 0x144a0aac8>"
      ]
     },
     "execution_count": 55,
     "metadata": {},
     "output_type": "execute_result"
    },
    {
     "data": {
      "image/png": "[encoded data removed]",
      "text/plain": [
       "<Figure size 432x288 with 1 Axes>"
      ]
     },
     "metadata": {
      "needs_background": "light"
     },
     "output_type": "display_data"
    }
   ],
   "source": [
    "clean.plot.scatter(x = 'PRCP2', y = 'TMAX2')"
   ]
  },
  {
   "cell_type": "code",
   "execution_count": 56,
   "metadata": {},
   "outputs": [
    {
     "data": {
      "text/plain": [
       "<matplotlib.axes._subplots.AxesSubplot at 0x144d9dd68>"
      ]
     },
     "execution_count": 56,
     "metadata": {},
     "output_type": "execute_result"
    },
    {
     "data": {
      "image/png": "[encoded data removed]",
      "text/plain": [
       "<Figure size 432x288 with 1 Axes>"
      ]
     },
     "metadata": {
      "needs_background": "light"
     },
     "output_type": "display_data"
    }
   ],
   "source": [
    "clean.plot.scatter(x = 'PRCP2', y = 'TAVG2')"
   ]
  },
  {
   "cell_type": "markdown",
   "metadata": {},
   "source": [
    "By looking at the 3 plots above. We can see that precipitation affects the maximum temperatures that were recorded, but it doesn't seem to affect the min or avg as badly. However, it is nice to see the very regular blob in the center of all three. We must also remember that the temperature is in Celsius, and temperatures outside of the massive blobs are probably involving times when the temperature reading sensor had a serious malfunction on multiple occasions. It might be good to look into the temperature sensor maintenance schedule to deal with this many outliers. "
   ]
  },
  {
   "cell_type": "markdown",
   "metadata": {},
   "source": [
    "# Analysis\n",
    "\n",
    "Although it appears on the charts that we have a drastic amount of outliers. The data seems fairly regular overall. This many outliers shows that either the sensors need to be recalibrated more often or the data needs to be stored more securely.\n",
    "\n",
    "It is good to note that the biggest influencer with temperature change in the philadelphia area is time of year. It is interesting to point out that precipitation doesn't affect overall temperature readings throughout the month to drastically, and probably minimal by how the plots read. Elevation seems to have an affect, but it is only a significant difference at high elevations because temperature is more regular at the higher elevations according to the charts drafted."
   ]
  },
  {
   "cell_type": "code",
   "execution_count": null,
   "metadata": {},
   "outputs": [],
   "source": []
  }
 ],
 "metadata": {
  "kernelspec": {
   "display_name": "Python 3",
   "language": "python",
   "name": "python3"
  },
  "language_info": {
   "codemirror_mode": {
    "name": "ipython",
    "version": 3
   },
   "file_extension": ".py",
   "mimetype": "text/x-python",
   "name": "python",
   "nbconvert_exporter": "python",
   "pygments_lexer": "ipython3",
   "version": "3.7.3"
  }
 },
 "nbformat": 4,
 "nbformat_minor": 4
}
