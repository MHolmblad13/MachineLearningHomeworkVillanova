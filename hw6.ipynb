{
 "cells": [
  {
   "cell_type": "markdown",
   "metadata": {},
   "source": [
    "# Assignment 6: Dimensionality Reduction & Visualization\n",
    "\n",
    "This assignment will give you a chance to practice using some of the unsupervised learning methods implemented in scikit-learn, as well as give you a chance to play around with some of the visualization tools provided by matplotlib.  Keep in mind that there are other libraries out there for visualization (and for machine learning in general); this is not the full extent of what is possible, just an introduction.\n",
    "\n",
    "*Note that this assignment includes a bunch of worked examples, intermixed with the actual homework problems.  Look for **\"todo\"** to find places you need to provide code or answers.*"
   ]
  },
  {
   "cell_type": "code",
   "execution_count": 1,
   "metadata": {},
   "outputs": [],
   "source": [
    "# CSC 4510 - Machine Learning\n",
    "# Assignment 6\n",
    "# Scaffolding by Dr. Ben Mitchell\n",
    "# Assignment completed by: <YOUR NAME(S) HERE>\n",
    "# Resources used: \n",
    "#   <List any resources you used beyond the ones posted on Blackboard>\n",
    "#   <This can include books, websites, other students, etc.>"
   ]
  },
  {
   "cell_type": "code",
   "execution_count": 1,
   "metadata": {},
   "outputs": [],
   "source": [
    "import numpy as np\n",
    "\n",
    "# import sklearn stuff\n",
    "from sklearn import datasets\n",
    "from sklearn.decomposition import PCA\n",
    "from sklearn.cluster import KMeans\n",
    "from sklearn.mixture import GaussianMixture\n",
    "\n",
    "# set up for plotting figures in the notebook\n",
    "%matplotlib inline\n",
    "# NOTE: you can also try 'notebook' or 'widget' in place of 'inline' (may require installing extra packages, but more functionality)\n",
    "import matplotlib as mpl\n",
    "import matplotlib.pyplot as plt\n",
    "import matplotlib.patches as mpatches\n",
    "\n",
    "from sklearn import neighbors # import nearest neighbor classifiers\n",
    "from sklearn import svm # import SVM classifiers\n",
    "from sklearn import tree # import decision tree classifiers\n",
    "from sklearn.model_selection import train_test_split # import holdout validation split method\n",
    "from sklearn.ensemble import RandomForestClassifier\n",
    "from sklearn import ensemble\n",
    "from sklearn.ensemble import VotingClassifier"
   ]
  },
  {
   "cell_type": "markdown",
   "metadata": {},
   "source": [
    "## Load some data\n",
    "This time, we're going to load a couple of data sets to play with.  First, we'll load our old friend the Iris dataset, but then we'll load another dataset that's a bit higher dimensional, and allows other kinds of visualizations.  "
   ]
  },
  {
   "cell_type": "code",
   "execution_count": 4,
   "metadata": {},
   "outputs": [],
   "source": [
    "# load the iris dataset\n",
    "iris = datasets.load_iris()"
   ]
  },
  {
   "cell_type": "code",
   "execution_count": 5,
   "metadata": {},
   "outputs": [
    {
     "data": {
      "text/plain": [
       "(150, 4)"
      ]
     },
     "execution_count": 5,
     "metadata": {},
     "output_type": "execute_result"
    }
   ],
   "source": [
    "# note that the iris data is 4-dimensional\n",
    "iris.data.shape"
   ]
  },
  {
   "cell_type": "code",
   "execution_count": 6,
   "metadata": {},
   "outputs": [
    {
     "data": {
      "text/plain": [
       "array([[5.1, 3.5, 1.4, 0.2],\n",
       "       [4.9, 3. , 1.4, 0.2],\n",
       "       [4.7, 3.2, 1.3, 0.2],\n",
       "       [4.6, 3.1, 1.5, 0.2],\n",
       "       [5. , 3.6, 1.4, 0.2],\n",
       "       [5.4, 3.9, 1.7, 0.4],\n",
       "       [4.6, 3.4, 1.4, 0.3],\n",
       "       [5. , 3.4, 1.5, 0.2],\n",
       "       [4.4, 2.9, 1.4, 0.2],\n",
       "       [4.9, 3.1, 1.5, 0.1]])"
      ]
     },
     "execution_count": 6,
     "metadata": {},
     "output_type": "execute_result"
    }
   ],
   "source": [
    "# let's look at the first 10 elements\n",
    "iris.data[:10]"
   ]
  },
  {
   "cell_type": "code",
   "execution_count": 7,
   "metadata": {},
   "outputs": [
    {
     "data": {
      "text/plain": [
       "['sepal length (cm)',\n",
       " 'sepal width (cm)',\n",
       " 'petal length (cm)',\n",
       " 'petal width (cm)']"
      ]
     },
     "execution_count": 7,
     "metadata": {},
     "output_type": "execute_result"
    }
   ],
   "source": [
    "iris.feature_names"
   ]
  },
  {
   "cell_type": "markdown",
   "metadata": {},
   "source": [
    "## Plot the data\n",
    "Since the iris dataset has 4 features, we'll need to plot them as pairs; we can use color to represent class label.  Here is an example of plotting the first two dimensions:"
   ]
  },
  {
   "cell_type": "code",
   "execution_count": 8,
   "metadata": {},
   "outputs": [
    {
     "data": {
      "text/plain": [
       "Text(0.5, 1.0, 'Iris dataset (first two dimensions)')"
      ]
     },
     "execution_count": 8,
     "metadata": {},
     "output_type": "execute_result"
    },
    {
     "data": {
      "image/png": "[encoded data removed]",
      "text/plain": [
       "<Figure size 432x288 with 1 Axes>"
      ]
     },
     "metadata": {
      "needs_background": "light"
     },
     "output_type": "display_data"
    }
   ],
   "source": [
    "plt.figure() # make a new figure to plot in\n",
    "# let's set up a list of colors for the different class labels:\n",
    "colors = ['darkred', 'blue', 'orange']\n",
    "# now we'll loop over the points in our data set, and plot them one at a time\n",
    "for i in range(len(iris.data)):\n",
    "    # use the first 2 dimensions as our x and y coordinates\n",
    "    x = iris.data[i][0]\n",
    "    y = iris.data[i][1]\n",
    "    # use the target (which we know is 0, 1, or 2) to select the color for this point\n",
    "    c = colors[iris.target[i]]\n",
    "    # plot the point as a single point in a scatter graph\n",
    "    plt.scatter(x, y, color=c)\n",
    "\n",
    "# now let's add some axis labels; we'll use the names from the data set\n",
    "plt.xlabel(iris.feature_names[0])\n",
    "plt.ylabel(iris.feature_names[1])\n",
    "# if we want a key, we'll need to make \"handles\" attaching colors to names\n",
    "red = mpatches.Patch(color='darkred', label='setosa')\n",
    "blue = mpatches.Patch(color='blue', label='versicolor')\n",
    "orange = mpatches.Patch(color='orange', label='virginica')\n",
    "# now actually show the legend\n",
    "plt.legend(handles=[red, blue, orange])\n",
    "\n",
    "# let's add a title\n",
    "plt.title('Iris dataset (first two dimensions)')"
   ]
  },
  {
   "cell_type": "markdown",
   "metadata": {},
   "source": [
    "# Plot the other combinations of axes\n",
    "You will need a total of 6 plots (including the one above) to plot all possible combinations of dimensions; the remaining 5 are left to you, but you should be able to copy the example above and make minor modifications to it."
   ]
  },
  {
   "cell_type": "code",
   "execution_count": 9,
   "metadata": {},
   "outputs": [
    {
     "data": {
      "text/plain": [
       "Text(0.5, 1.0, 'Iris dataset (First and Third dimensions)')"
      ]
     },
     "execution_count": 9,
     "metadata": {},
     "output_type": "execute_result"
    },
    {
     "data": {
      "image/png": "[encoded data removed]",
      "text/plain": [
       "<Figure size 432x288 with 1 Axes>"
      ]
     },
     "metadata": {
      "needs_background": "light"
     },
     "output_type": "display_data"
    }
   ],
   "source": [
    "plt.figure() # make a new figure to plot in\n",
    "# let's set up a list of colors for the different class labels:\n",
    "colors = ['darkred', 'blue', 'orange']\n",
    "# now we'll loop over the points in our data set, and plot them one at a time\n",
    "for i in range(len(iris.data)):\n",
    "    # use the first 2 dimensions as our x and y coordinates\n",
    "    x = iris.data[i][0]\n",
    "    y = iris.data[i][2]\n",
    "    # use the target (which we know is 0, 1, or 2) to select the color for this point\n",
    "    c = colors[iris.target[i]]\n",
    "    # plot the point as a single point in a scatter graph\n",
    "    plt.scatter(x, y, color=c)\n",
    "\n",
    "# now let's add some axis labels; we'll use the names from the data set\n",
    "plt.xlabel(iris.feature_names[0])\n",
    "plt.ylabel(iris.feature_names[2])\n",
    "# if we want a key, we'll need to make \"handles\" attaching colors to names\n",
    "red = mpatches.Patch(color='darkred', label='setosa')\n",
    "blue = mpatches.Patch(color='blue', label='versicolor')\n",
    "orange = mpatches.Patch(color='orange', label='virginica')\n",
    "# now actually show the legend\n",
    "plt.legend(handles=[red, blue, orange])\n",
    "\n",
    "# let's add a title\n",
    "plt.title('Iris dataset (First and Third dimensions)')"
   ]
  },
  {
   "cell_type": "code",
   "execution_count": 10,
   "metadata": {},
   "outputs": [
    {
     "data": {
      "text/plain": [
       "Text(0.5, 1.0, 'Iris dataset (First and Fourth dimensions)')"
      ]
     },
     "execution_count": 10,
     "metadata": {},
     "output_type": "execute_result"
    },
    {
     "data": {
      "image/png": "[encoded data removed]",
      "text/plain": [
       "<Figure size 432x288 with 1 Axes>"
      ]
     },
     "metadata": {
      "needs_background": "light"
     },
     "output_type": "display_data"
    }
   ],
   "source": [
    "plt.figure() # make a new figure to plot in\n",
    "# let's set up a list of colors for the different class labels:\n",
    "colors = ['darkred', 'blue', 'orange']\n",
    "# now we'll loop over the points in our data set, and plot them one at a time\n",
    "for i in range(len(iris.data)):\n",
    "    # use the first 2 dimensions as our x and y coordinates\n",
    "    x = iris.data[i][0]\n",
    "    y = iris.data[i][3]\n",
    "    # use the target (which we know is 0, 1, or 2) to select the color for this point\n",
    "    c = colors[iris.target[i]]\n",
    "    # plot the point as a single point in a scatter graph\n",
    "    plt.scatter(x, y, color=c)\n",
    "\n",
    "# now let's add some axis labels; we'll use the names from the data set\n",
    "plt.xlabel(iris.feature_names[0])\n",
    "plt.ylabel(iris.feature_names[3])\n",
    "# if we want a key, we'll need to make \"handles\" attaching colors to names\n",
    "red = mpatches.Patch(color='darkred', label='setosa')\n",
    "blue = mpatches.Patch(color='blue', label='versicolor')\n",
    "orange = mpatches.Patch(color='orange', label='virginica')\n",
    "# now actually show the legend\n",
    "plt.legend(handles=[red, blue, orange])\n",
    "\n",
    "# let's add a title\n",
    "plt.title('Iris dataset (First and Fourth dimensions)')"
   ]
  },
  {
   "cell_type": "code",
   "execution_count": 11,
   "metadata": {},
   "outputs": [
    {
     "data": {
      "text/plain": [
       "Text(0.5, 1.0, 'Iris dataset (Second and Third dimensions)')"
      ]
     },
     "execution_count": 11,
     "metadata": {},
     "output_type": "execute_result"
    },
    {
     "data": {
      "image/png": "[encoded data removed]",
      "text/plain": [
       "<Figure size 432x288 with 1 Axes>"
      ]
     },
     "metadata": {
      "needs_background": "light"
     },
     "output_type": "display_data"
    }
   ],
   "source": [
    "plt.figure() # make a new figure to plot in\n",
    "# let's set up a list of colors for the different class labels:\n",
    "colors = ['darkred', 'blue', 'orange']\n",
    "# now we'll loop over the points in our data set, and plot them one at a time\n",
    "for i in range(len(iris.data)):\n",
    "    # use the first 2 dimensions as our x and y coordinates\n",
    "    x = iris.data[i][1]\n",
    "    y = iris.data[i][2]\n",
    "    # use the target (which we know is 0, 1, or 2) to select the color for this point\n",
    "    c = colors[iris.target[i]]\n",
    "    # plot the point as a single point in a scatter graph\n",
    "    plt.scatter(x, y, color=c)\n",
    "\n",
    "# now let's add some axis labels; we'll use the names from the data set\n",
    "plt.xlabel(iris.feature_names[1])\n",
    "plt.ylabel(iris.feature_names[2])\n",
    "# if we want a key, we'll need to make \"handles\" attaching colors to names\n",
    "red = mpatches.Patch(color='darkred', label='setosa')\n",
    "blue = mpatches.Patch(color='blue', label='versicolor')\n",
    "orange = mpatches.Patch(color='orange', label='virginica')\n",
    "# now actually show the legend\n",
    "plt.legend(handles=[red, blue, orange])\n",
    "\n",
    "# let's add a title\n",
    "plt.title('Iris dataset (Second and Third dimensions)')"
   ]
  },
  {
   "cell_type": "code",
   "execution_count": 12,
   "metadata": {},
   "outputs": [
    {
     "data": {
      "text/plain": [
       "Text(0.5, 1.0, 'Iris dataset (Second and Fourth dimensions)')"
      ]
     },
     "execution_count": 12,
     "metadata": {},
     "output_type": "execute_result"
    },
    {
     "data": {
      "image/png": "[encoded data removed]",
      "text/plain": [
       "<Figure size 432x288 with 1 Axes>"
      ]
     },
     "metadata": {
      "needs_background": "light"
     },
     "output_type": "display_data"
    }
   ],
   "source": [
    "plt.figure() # make a new figure to plot in\n",
    "# let's set up a list of colors for the different class labels:\n",
    "colors = ['darkred', 'blue', 'orange']\n",
    "# now we'll loop over the points in our data set, and plot them one at a time\n",
    "for i in range(len(iris.data)):\n",
    "    # use the first 2 dimensions as our x and y coordinates\n",
    "    x = iris.data[i][1]\n",
    "    y = iris.data[i][3]\n",
    "    # use the target (which we know is 0, 1, or 2) to select the color for this point\n",
    "    c = colors[iris.target[i]]\n",
    "    # plot the point as a single point in a scatter graph\n",
    "    plt.scatter(x, y, color=c)\n",
    "\n",
    "# now let's add some axis labels; we'll use the names from the data set\n",
    "plt.xlabel(iris.feature_names[1])\n",
    "plt.ylabel(iris.feature_names[3])\n",
    "# if we want a key, we'll need to make \"handles\" attaching colors to names\n",
    "red = mpatches.Patch(color='darkred', label='setosa')\n",
    "blue = mpatches.Patch(color='blue', label='versicolor')\n",
    "orange = mpatches.Patch(color='orange', label='virginica')\n",
    "# now actually show the legend\n",
    "plt.legend(handles=[red, blue, orange])\n",
    "\n",
    "# let's add a title\n",
    "plt.title('Iris dataset (Second and Fourth dimensions)')"
   ]
  },
  {
   "cell_type": "code",
   "execution_count": 13,
   "metadata": {},
   "outputs": [
    {
     "data": {
      "text/plain": [
       "Text(0.5, 1.0, 'Iris dataset (Third and Fourth dimensions)')"
      ]
     },
     "execution_count": 13,
     "metadata": {},
     "output_type": "execute_result"
    },
    {
     "data": {
      "image/png": "[encoded data removed]",
      "text/plain": [
       "<Figure size 432x288 with 1 Axes>"
      ]
     },
     "metadata": {
      "needs_background": "light"
     },
     "output_type": "display_data"
    }
   ],
   "source": [
    "plt.figure() # make a new figure to plot in\n",
    "# let's set up a list of colors for the different class labels:\n",
    "colors = ['darkred', 'blue', 'orange']\n",
    "# now we'll loop over the points in our data set, and plot them one at a time\n",
    "for i in range(len(iris.data)):\n",
    "    # use the first 2 dimensions as our x and y coordinates\n",
    "    x = iris.data[i][2]\n",
    "    y = iris.data[i][3]\n",
    "    # use the target (which we know is 0, 1, or 2) to select the color for this point\n",
    "    c = colors[iris.target[i]]\n",
    "    # plot the point as a single point in a scatter graph\n",
    "    plt.scatter(x, y, color=c)\n",
    "\n",
    "# now let's add some axis labels; we'll use the names from the data set\n",
    "plt.xlabel(iris.feature_names[2])\n",
    "plt.ylabel(iris.feature_names[3])\n",
    "# if we want a key, we'll need to make \"handles\" attaching colors to names\n",
    "red = mpatches.Patch(color='darkred', label='setosa')\n",
    "blue = mpatches.Patch(color='blue', label='versicolor')\n",
    "orange = mpatches.Patch(color='orange', label='virginica')\n",
    "# now actually show the legend\n",
    "plt.legend(handles=[red, blue, orange])\n",
    "\n",
    "# let's add a title\n",
    "plt.title('Iris dataset (Third and Fourth dimensions)')"
   ]
  },
  {
   "cell_type": "markdown",
   "metadata": {},
   "source": [
    "# Which one seems the most useful?\n",
    "Which of these plots seems the best, and why? Write your answer (using Markdown) below:\n",
    "\n",
    "***\n",
    "\n",
    "The plot with the second and fourth dimension seems the best because it seems as if we have 3 distinct groups with the three different flowers. We are tracking the three groups with a common measurement in the width. Their are also only three overlapping points between versicolor and virgincia which is the lowest amount of overlap amongst all the plots."
   ]
  },
  {
   "cell_type": "markdown",
   "metadata": {},
   "source": [
    "## Run PCA\n",
    "Here, we'll apply principal component analysis (PCA) to the dataset.  We'll use `n_components=2` to indicate we want to reduce our dimensionality to 2"
   ]
  },
  {
   "cell_type": "code",
   "execution_count": 14,
   "metadata": {},
   "outputs": [],
   "source": [
    "# set up a PCA learner\n",
    "pca = PCA(n_components = 2)\n",
    "# actually run the fit algorithm\n",
    "eigenbasis = pca.fit(iris.data)\n",
    "# transform our data using the learned transform\n",
    "iris2d = eigenbasis.transform(iris.data)"
   ]
  },
  {
   "cell_type": "code",
   "execution_count": 15,
   "metadata": {},
   "outputs": [
    {
     "data": {
      "text/plain": [
       "(150, 2)"
      ]
     },
     "execution_count": 15,
     "metadata": {},
     "output_type": "execute_result"
    }
   ],
   "source": [
    "# note that our transformed dat is now 2-dimensional\n",
    "iris2d.shape"
   ]
  },
  {
   "cell_type": "code",
   "execution_count": 16,
   "metadata": {},
   "outputs": [
    {
     "data": {
      "text/plain": [
       "array([[-2.68412563,  0.31939725],\n",
       "       [-2.71414169, -0.17700123],\n",
       "       [-2.88899057, -0.14494943],\n",
       "       [-2.74534286, -0.31829898],\n",
       "       [-2.72871654,  0.32675451],\n",
       "       [-2.28085963,  0.74133045],\n",
       "       [-2.82053775, -0.08946138],\n",
       "       [-2.62614497,  0.16338496],\n",
       "       [-2.88638273, -0.57831175],\n",
       "       [-2.6727558 , -0.11377425]])"
      ]
     },
     "execution_count": 16,
     "metadata": {},
     "output_type": "execute_result"
    }
   ],
   "source": [
    "# again, let's look at the first 10 elements; note that they are 2 dimensional, rather than 4\n",
    "iris2d[:10]"
   ]
  },
  {
   "cell_type": "markdown",
   "metadata": {},
   "source": [
    "### Examining components\n",
    "We can look at the actual \"principal components,\" which we're using as the basis for our transformed data space.  Since each component is a vector in the original data space, we can see what \"axis\" in the original space is the one of primary variance.\n",
    "\n",
    "Since we said to use the top 2 components, we're going to have two vectors, each of length 4 (since our original data was 4 dimensional).\n",
    "\n",
    "We can also show the amount of the total variance explained by each component, which tells us how \"important\" they are."
   ]
  },
  {
   "cell_type": "code",
   "execution_count": 17,
   "metadata": {},
   "outputs": [
    {
     "name": "stdout",
     "output_type": "stream",
     "text": [
      "principal components:\n",
      " [[ 0.36138659 -0.08452251  0.85667061  0.3582892 ]\n",
      " [ 0.65658877  0.73016143 -0.17337266 -0.07548102]]\n",
      "percentage of variance explained by first 2 principal components: [0.92461872 0.05306648]\n"
     ]
    }
   ],
   "source": [
    "# the actual components\n",
    "print(\"principal components:\\n\", pca.components_)\n",
    "# let's also look at how much of the total variance we were able to cover with 2 dimensions\n",
    "print('percentage of variance explained by first 2 principal components:', pca.explained_variance_ratio_)"
   ]
  },
  {
   "cell_type": "markdown",
   "metadata": {},
   "source": [
    "## Make a plot of the 2D \"transformed\" data\n",
    " First, here's an example adapted from http://scikit-learn.org/stable/auto_examples/decomposition/plot_pca_vs_lda.html#sphx-glr-auto-examples-decomposition-plot-pca-vs-lda-py"
   ]
  },
  {
   "cell_type": "code",
   "execution_count": 18,
   "metadata": {},
   "outputs": [
    {
     "data": {
      "text/plain": [
       "Text(0.5, 1.0, 'PCA of IRIS dataset')"
      ]
     },
     "execution_count": 18,
     "metadata": {},
     "output_type": "execute_result"
    },
    {
     "data": {
      "image/png": "[encoded data removed]",
      "text/plain": [
       "<Figure size 432x288 with 1 Axes>"
      ]
     },
     "metadata": {
      "needs_background": "light"
     },
     "output_type": "display_data"
    }
   ],
   "source": [
    "# make a new figure\n",
    "plt.figure()\n",
    "# pick some colors to use\n",
    "colors = ['navy', 'turquoise', 'darkorange']\n",
    "\n",
    "# plot our points with colors and labels\n",
    "for color, i, iris.target_name in zip(colors, [0, 1, 2], iris.target_names):\n",
    "    plt.scatter(iris2d[iris.target == i, 0], iris2d[iris.target == i, 1], color=color, label=iris.target_name)\n",
    "plt.legend(loc='best')\n",
    "plt.title('PCA of IRIS dataset')"
   ]
  },
  {
   "cell_type": "code",
   "execution_count": 19,
   "metadata": {},
   "outputs": [
    {
     "data": {
      "image/png": "[encoded data removed]",
      "text/plain": [
       "<Figure size 432x288 with 1 Axes>"
      ]
     },
     "metadata": {
      "needs_background": "light"
     },
     "output_type": "display_data"
    }
   ],
   "source": [
    "# here's an alternative version of plotting this data that may be easier to understand:\n",
    "colors = ['red', 'blue', 'green']\n",
    "plt.figure()\n",
    "# loop over examples, and plot each one\n",
    "for i in range(len(iris2d)):\n",
    "    point = iris2d[i]\n",
    "    classLabel = iris.target[i]\n",
    "    # plot a dot at an (x, y) coordinate, using the specified color.\n",
    "    plt.scatter(point[0], point[1], color=colors[classLabel])"
   ]
  },
  {
   "cell_type": "markdown",
   "metadata": {},
   "source": [
    "# Compare this to the 6 plots from before\n",
    "Does this plot seem \"better\" than the plots we made before using the original axes?  Explain the *pros* and *cons* of the two ways of visualizing the data (note that you should have at minimum one of each):\n",
    "\n",
    "***\n",
    "\n",
    "We get the same three distinct groups as with the other plots and little overlap. It is hard to tell if we gained more information from this plot compared to the others. It seems maybe a little \"better\", but there really isn't an information gain."
   ]
  },
  {
   "cell_type": "markdown",
   "metadata": {},
   "source": [
    "## SciKit Learn has several other methods of generating embeddings\n",
    "\n",
    "We discussed several of these in class; see https://scikit-learn.org/stable/modules/manifold.html for the SciKit Learn users guide on the subject.  Here, we're going to use t-SNE and see how it compares to PCA.\n",
    "\n",
    "Note that t-SNE is stochastic, so re-running this cell will result in a different plot each time."
   ]
  },
  {
   "cell_type": "code",
   "execution_count": 33,
   "metadata": {},
   "outputs": [
    {
     "data": {
      "image/png": "[encoded data removed]",
      "text/plain": [
       "<Figure size 432x288 with 1 Axes>"
      ]
     },
     "metadata": {
      "needs_background": "light"
     },
     "output_type": "display_data"
    }
   ],
   "source": [
    "from sklearn import manifold\n",
    "\n",
    "irisTSNE = manifold.TSNE(n_components = 2, perplexity = 15).fit_transform(iris.data)\n",
    "\n",
    "colors = ['red', 'blue', 'green']\n",
    "plt.figure()\n",
    "# loop over examples, and plot each one\n",
    "for i in range(len(iris2d)):\n",
    "    point = irisTSNE[i]\n",
    "    classLabel = iris.target[i]\n",
    "    # plot a dot at an (x, y) coordinate, using the specified color.\n",
    "    plt.scatter(point[0], point[1], color=colors[classLabel])"
   ]
  },
  {
   "cell_type": "markdown",
   "metadata": {},
   "source": [
    "# Now let's try a different dataset\n",
    "Here, we'll work with a set of small \"pictures\" of handwritten numeric digits.  Note that this is a miniature version; most real-world image datasets are much bigger (both in dimensionality and number of examples), but the same principles will apply."
   ]
  },
  {
   "cell_type": "code",
   "execution_count": 2,
   "metadata": {},
   "outputs": [],
   "source": [
    "# load a dataset composed of small images of written numbers\n",
    "digits = datasets.load_digits()"
   ]
  },
  {
   "cell_type": "code",
   "execution_count": 3,
   "metadata": {},
   "outputs": [
    {
     "data": {
      "text/plain": [
       "(1797, 64)"
      ]
     },
     "execution_count": 3,
     "metadata": {},
     "output_type": "execute_result"
    }
   ],
   "source": [
    "# let's take a look at the shape of the dataset\n",
    "digits.data.shape"
   ]
  },
  {
   "cell_type": "markdown",
   "metadata": {},
   "source": [
    "Note that each example has 64 features, which in this case represent values from a 8x8 pixel grayscale image"
   ]
  },
  {
   "cell_type": "code",
   "execution_count": 4,
   "metadata": {},
   "outputs": [
    {
     "name": "stdout",
     "output_type": "stream",
     "text": [
      "label is : 0\n"
     ]
    },
    {
     "data": {
      "text/plain": [
       "array([ 0.,  0.,  3., 13., 11.,  7.,  0.,  0.,  0.,  0., 11., 16., 16.,\n",
       "       16.,  2.,  0.,  0.,  4., 16.,  9.,  1., 14.,  2.,  0.,  0.,  4.,\n",
       "       16.,  0.,  0., 16.,  2.,  0.,  0.,  0., 16.,  1.,  0., 12.,  8.,\n",
       "        0.,  0.,  0., 15.,  9.,  0., 13.,  6.,  0.,  0.,  0.,  9., 14.,\n",
       "        9., 14.,  1.,  0.,  0.,  0.,  2., 12., 13.,  4.,  0.,  0.])"
      ]
     },
     "execution_count": 4,
     "metadata": {},
     "output_type": "execute_result"
    }
   ],
   "source": [
    "# let's look at a random example; note that it's just a single vector with 64 elements\n",
    "print('label is :', digits.target[20])\n",
    "digits.data[20]"
   ]
  },
  {
   "cell_type": "code",
   "execution_count": 6,
   "metadata": {},
   "outputs": [
    {
     "data": {
      "text/plain": [
       "array([[ 0.,  0.,  3., 13., 11.,  7.,  0.,  0.],\n",
       "       [ 0.,  0., 11., 16., 16., 16.,  2.,  0.],\n",
       "       [ 0.,  4., 16.,  9.,  1., 14.,  2.,  0.],\n",
       "       [ 0.,  4., 16.,  0.,  0., 16.,  2.,  0.],\n",
       "       [ 0.,  0., 16.,  1.,  0., 12.,  8.,  0.],\n",
       "       [ 0.,  0., 15.,  9.,  0., 13.,  6.,  0.],\n",
       "       [ 0.,  0.,  9., 14.,  9., 14.,  1.,  0.],\n",
       "       [ 0.,  0.,  2., 12., 13.,  4.,  0.,  0.]])"
      ]
     },
     "execution_count": 6,
     "metadata": {},
     "output_type": "execute_result"
    }
   ],
   "source": [
    "# note that we can 'reshape' this data to get an 8x8 2D array (i.e. matrix) with those values\n",
    "mat = np.reshape(digits.data[20], [8,8])\n",
    "mat"
   ]
  },
  {
   "cell_type": "code",
   "execution_count": 6,
   "metadata": {},
   "outputs": [
    {
     "data": {
      "text/plain": [
       "<matplotlib.image.AxesImage at 0x1a15dc8160>"
      ]
     },
     "execution_count": 6,
     "metadata": {},
     "output_type": "execute_result"
    },
    {
     "data": {
      "text/plain": [
       "<Figure size 432x288 with 0 Axes>"
      ]
     },
     "metadata": {},
     "output_type": "display_data"
    },
    {
     "data": {
      "image/png": "[encoded data removed]",
      "text/plain": [
       "<Figure size 288x288 with 1 Axes>"
      ]
     },
     "metadata": {
      "needs_background": "light"
     },
     "output_type": "display_data"
    }
   ],
   "source": [
    "# we can also ask matplotlib to treat these examples as images (which they are), and plot one:\n",
    "plt.gray() # use gray levels rather than colors\n",
    "plt.matshow(mat) # show a matrix (i.e. 2D array) as visual values"
   ]
  },
  {
   "cell_type": "markdown",
   "metadata": {},
   "source": [
    "# Visualize this data\n",
    "Note that we can't realistically visualize all pairs of axes, there's way too many (though we can look at example images as shown above).  However, we can still do PCA and do a scatterplot of the first two dimensions, which is what you should do next.  Note that there are now going to be 10 different classes (the digits 0 through 9), so you'll need to pick some more colors to give each class its own color.  Try to ensure that the colors are visually distinct; here's a link to some colored patches along with their CSS names (which pyplot will recognise) http://www.crockford.com/wrrrld/color.html"
   ]
  },
  {
   "cell_type": "code",
   "execution_count": 7,
   "metadata": {},
   "outputs": [],
   "source": [
    "# TODO: run PCA on the digit data and project the dataset down to 2 dimensions\n",
    "# set up a PCA learner\n",
    "pca = PCA(n_components = 2)\n",
    "# actually run the fit algorithm\n",
    "eigenbasis = pca.fit(digits.data)\n",
    "# transform our data using the learned transform\n",
    "digits2d = eigenbasis.transform(digits.data)"
   ]
  },
  {
   "cell_type": "code",
   "execution_count": 8,
   "metadata": {},
   "outputs": [
    {
     "name": "stdout",
     "output_type": "stream",
     "text": [
      "principal components:\n",
      " [[-3.40315420e-18 -1.73094660e-02 -2.23428839e-01 -1.35913305e-01\n",
      "  -3.30323077e-02 -9.66340806e-02 -8.32943722e-03  2.26900060e-03\n",
      "  -3.20516514e-04 -1.19308908e-01 -2.44451676e-01  1.48512743e-01\n",
      "  -4.67319522e-02 -2.17740745e-01 -1.48136783e-02  4.47779465e-03\n",
      "  -4.94136548e-05 -7.95419405e-02  8.33951515e-02  2.15915345e-01\n",
      "  -1.72126797e-01 -1.63712101e-01  2.86444397e-02  4.23251753e-03\n",
      "   9.85488532e-05  6.42319142e-02  2.54093315e-01 -3.56771035e-02\n",
      "  -2.09462557e-01 -4.31311485e-02  5.13118602e-02  2.13422713e-04\n",
      "   0.00000000e+00  1.59950886e-01  3.68690765e-01  1.64406812e-01\n",
      "   8.52007934e-02  3.72982900e-02  2.15866976e-02  0.00000000e+00\n",
      "   1.28865593e-03  1.06945294e-01  3.03067465e-01  2.47813041e-01\n",
      "   2.09637298e-01  1.22325239e-02 -3.69458482e-02  1.61485027e-03\n",
      "   6.93023594e-04 -8.35143984e-03 -5.58598918e-02  9.30534155e-02\n",
      "   1.07387716e-01 -1.37734575e-01 -6.32879487e-02  9.61670452e-04\n",
      "   9.55079649e-06 -1.40786846e-02 -2.35675491e-01 -1.41225586e-01\n",
      "  -9.15964545e-03 -8.94184716e-02 -3.65977132e-02 -1.14684964e-02]\n",
      " [-3.06075700e-18 -1.01064598e-02 -4.90849361e-02 -9.43336544e-03\n",
      "  -5.36015422e-02 -1.17755321e-01 -6.21281936e-02 -7.93574861e-03\n",
      "  -1.63216222e-04 -2.10167124e-02  6.03485640e-02 -5.33770034e-03\n",
      "  -9.19769349e-02 -5.19210440e-02 -5.89354839e-02 -3.33283643e-03\n",
      "  -4.22871862e-05  3.62458474e-02  1.98257337e-01 -4.86386567e-02\n",
      "  -2.25574891e-01 -4.50541899e-03  2.67696591e-02 -2.08736673e-04\n",
      "  -5.66233811e-05  7.71235165e-02  1.88447106e-01 -1.37952517e-01\n",
      "  -2.61042766e-01  4.98350408e-02  6.51113662e-02  4.03199977e-05\n",
      "  -0.00000000e+00  8.81559982e-02  8.71737520e-02 -2.70860200e-01\n",
      "  -2.85291799e-01  1.66461578e-01  1.27860546e-01 -0.00000000e+00\n",
      "   2.89440214e-04  5.08304926e-02  1.30274468e-01 -2.68906478e-01\n",
      "  -3.01575534e-01  2.40259058e-01  2.17555558e-01  1.32726079e-03\n",
      "   2.86742932e-04  1.05548275e-02  1.53370689e-01 -1.19535180e-01\n",
      "  -9.72508097e-02  2.85869518e-01  1.48776440e-01  5.42290221e-04\n",
      "  -3.34028092e-05 -1.00791200e-02 -7.02724239e-02  1.71108277e-02\n",
      "   1.94296414e-01  1.76697107e-01  1.94546975e-02 -6.69694007e-03]]\n",
      "percentage of variance explained by first 2 principal components: [0.14890594 0.13618771]\n"
     ]
    }
   ],
   "source": [
    "# the actual components\n",
    "print(\"principal components:\\n\", pca.components_)\n",
    "# let's also look at how much of the total variance we were able to cover with 2 dimensions\n",
    "print('percentage of variance explained by first 2 principal components:', pca.explained_variance_ratio_)"
   ]
  },
  {
   "cell_type": "code",
   "execution_count": null,
   "metadata": {},
   "outputs": [],
   "source": [
    "digits2d[:10]"
   ]
  },
  {
   "cell_type": "code",
   "execution_count": null,
   "metadata": {},
   "outputs": [],
   "source": [
    "digits2d.shape"
   ]
  },
  {
   "cell_type": "code",
   "execution_count": 29,
   "metadata": {},
   "outputs": [
    {
     "data": {
      "text/plain": [
       "Text(0.5, 1.0, 'PCA of Digits dataset')"
      ]
     },
     "execution_count": 29,
     "metadata": {},
     "output_type": "execute_result"
    },
    {
     "data": {
      "image/png": "[encoded data removed]",
      "text/plain": [
       "<Figure size 432x288 with 1 Axes>"
      ]
     },
     "metadata": {
      "needs_background": "light"
     },
     "output_type": "display_data"
    }
   ],
   "source": [
    "# TODO: make a scatterplot of the 2D version, using different colors for each class\n",
    "# make a new figure\n",
    "plt.figure()\n",
    "# pick some colors to use\n",
    "colors = ['navy', 'turquoise', 'darkorange']\n",
    "\n",
    "# plot our points with colors and labels\n",
    "for color, i, digits.target_name in zip(colors, [0, 1, 2], digits.target_names):\n",
    "    plt.scatter(digits2d[digits.target == i, 0], digits2d[digits.target == i, 1], color=color, label=digits.target_name)\n",
    "plt.legend(loc='best')\n",
    "plt.title('PCA of Digits dataset')"
   ]
  },
  {
   "cell_type": "code",
   "execution_count": 37,
   "metadata": {},
   "outputs": [
    {
     "data": {
      "image/png": "[encoded data removed]",
      "text/plain": [
       "<Figure size 432x288 with 1 Axes>"
      ]
     },
     "metadata": {
      "needs_background": "light"
     },
     "output_type": "display_data"
    }
   ],
   "source": [
    "# TODO: run TSNE on the data to get a (different) 2-dimensional version, and make a plot for this version\n",
    "digitsTSNE = manifold.TSNE(n_components = 2, perplexity = 15).fit_transform(digits.data)\n",
    "\n",
    "colors = ['red', 'blue', 'green', 'navy', 'turquoise', 'darkorange','lime','orchid','gold','blueviolet']\n",
    "plt.figure()\n",
    "# loop over examples, and plot each one\n",
    "for i in range(len(digits2d)):\n",
    "    point = digitsTSNE[i]\n",
    "    classLabel = digits.target[i]\n",
    "    # plot a dot at an (x, y) coordinate, using the specified color.\n",
    "    plt.scatter(point[0], point[1], color=colors[classLabel])"
   ]
  },
  {
   "cell_type": "code",
   "execution_count": 38,
   "metadata": {},
   "outputs": [
    {
     "data": {
      "image/png": "[encoded data removed]",
      "text/plain": [
       "<Figure size 432x288 with 1 Axes>"
      ]
     },
     "metadata": {
      "needs_background": "light"
     },
     "output_type": "display_data"
    }
   ],
   "source": [
    "# TODO: run TSNE on the data to get a (different) 2-dimensional version, and make a plot for this version\n",
    "digitsTSNE = manifold.TSNE(n_components = 2, perplexity = 10).fit_transform(digits.data)\n",
    "\n",
    "colors = ['red', 'blue', 'green', 'navy', 'turquoise', 'darkorange','lime','orchid','gold','blueviolet']\n",
    "plt.figure()\n",
    "# loop over examples, and plot each one\n",
    "for i in range(len(digits2d)):\n",
    "    point = digitsTSNE[i]\n",
    "    classLabel = digits.target[i]\n",
    "    # plot a dot at an (x, y) coordinate, using the specified color.\n",
    "    plt.scatter(point[0], point[1], color=colors[classLabel])"
   ]
  },
  {
   "cell_type": "code",
   "execution_count": 39,
   "metadata": {},
   "outputs": [
    {
     "data": {
      "image/png": "[encoded data removed]",
      "text/plain": [
       "<Figure size 432x288 with 1 Axes>"
      ]
     },
     "metadata": {
      "needs_background": "light"
     },
     "output_type": "display_data"
    }
   ],
   "source": [
    "# TODO: run TSNE on the data to get a (different) 2-dimensional version, and make a plot for this version\n",
    "digitsTSNE = manifold.TSNE(n_components = 2, perplexity = 5).fit_transform(digits.data)\n",
    "\n",
    "colors = ['red', 'blue', 'green', 'navy', 'turquoise', 'darkorange','lime','orchid','gold','blueviolet']\n",
    "plt.figure()\n",
    "# loop over examples, and plot each one\n",
    "for i in range(len(digits2d)):\n",
    "    point = digitsTSNE[i]\n",
    "    classLabel = digits.target[i]\n",
    "    # plot a dot at an (x, y) coordinate, using the specified color.\n",
    "    plt.scatter(point[0], point[1], color=colors[classLabel])"
   ]
  },
  {
   "cell_type": "code",
   "execution_count": 40,
   "metadata": {},
   "outputs": [
    {
     "data": {
      "image/png": "[encoded data removed]",
      "text/plain": [
       "<Figure size 432x288 with 1 Axes>"
      ]
     },
     "metadata": {
      "needs_background": "light"
     },
     "output_type": "display_data"
    }
   ],
   "source": [
    "# TODO: run TSNE on the data to get a (different) 2-dimensional version, and make a plot for this version\n",
    "digitsTSNE = manifold.TSNE(n_components = 2, perplexity = 20).fit_transform(digits.data)\n",
    "\n",
    "colors = ['red', 'blue', 'green', 'navy', 'turquoise', 'darkorange','lime','orchid','gold','blueviolet']\n",
    "plt.figure()\n",
    "# loop over examples, and plot each one\n",
    "for i in range(len(digits2d)):\n",
    "    point = digitsTSNE[i]\n",
    "    classLabel = digits.target[i]\n",
    "    # plot a dot at an (x, y) coordinate, using the specified color.\n",
    "    plt.scatter(point[0], point[1], color=colors[classLabel])"
   ]
  },
  {
   "cell_type": "code",
   "execution_count": 41,
   "metadata": {},
   "outputs": [
    {
     "data": {
      "image/png": "[encoded data removed]",
      "text/plain": [
       "<Figure size 432x288 with 1 Axes>"
      ]
     },
     "metadata": {
      "needs_background": "light"
     },
     "output_type": "display_data"
    }
   ],
   "source": [
    "# TODO: run TSNE on the data to get a (different) 2-dimensional version, and make a plot for this version\n",
    "digitsTSNE = manifold.TSNE(n_components = 2, perplexity = 17).fit_transform(digits.data)\n",
    "\n",
    "colors = ['red', 'blue', 'green', 'navy', 'turquoise', 'darkorange','lime','orchid','gold','blueviolet']\n",
    "plt.figure()\n",
    "# loop over examples, and plot each one\n",
    "for i in range(len(digits2d)):\n",
    "    point = digitsTSNE[i]\n",
    "    classLabel = digits.target[i]\n",
    "    # plot a dot at an (x, y) coordinate, using the specified color.\n",
    "    plt.scatter(point[0], point[1], color=colors[classLabel])"
   ]
  },
  {
   "cell_type": "code",
   "execution_count": 42,
   "metadata": {},
   "outputs": [
    {
     "data": {
      "image/png": "[encoded data removed]",
      "text/plain": [
       "<Figure size 432x288 with 1 Axes>"
      ]
     },
     "metadata": {
      "needs_background": "light"
     },
     "output_type": "display_data"
    }
   ],
   "source": [
    "# TODO: run TSNE on the data to get a (different) 2-dimensional version, and make a plot for this version\n",
    "digitsTSNE = manifold.TSNE(n_components = 2, perplexity = 16).fit_transform(digits.data)\n",
    "\n",
    "colors = ['red', 'blue', 'green', 'navy', 'turquoise', 'darkorange','lime','orchid','gold','blueviolet']\n",
    "plt.figure()\n",
    "# loop over examples, and plot each one\n",
    "for i in range(len(digits2d)):\n",
    "    point = digitsTSNE[i]\n",
    "    classLabel = digits.target[i]\n",
    "    # plot a dot at an (x, y) coordinate, using the specified color.\n",
    "    plt.scatter(point[0], point[1], color=colors[classLabel])"
   ]
  },
  {
   "cell_type": "code",
   "execution_count": 43,
   "metadata": {},
   "outputs": [
    {
     "data": {
      "image/png": "[encoded data removed]",
      "text/plain": [
       "<Figure size 432x288 with 1 Axes>"
      ]
     },
     "metadata": {
      "needs_background": "light"
     },
     "output_type": "display_data"
    }
   ],
   "source": [
    "# TODO: run TSNE on the data to get a (different) 2-dimensional version, and make a plot for this version\n",
    "digitsTSNE = manifold.TSNE(n_components = 2, perplexity = 13).fit_transform(digits.data)\n",
    "\n",
    "colors = ['red', 'blue', 'green', 'navy', 'turquoise', 'darkorange','lime','orchid','gold','blueviolet']\n",
    "plt.figure()\n",
    "# loop over examples, and plot each one\n",
    "for i in range(len(digits2d)):\n",
    "    point = digitsTSNE[i]\n",
    "    classLabel = digits.target[i]\n",
    "    # plot a dot at an (x, y) coordinate, using the specified color.\n",
    "    plt.scatter(point[0], point[1], color=colors[classLabel])"
   ]
  },
  {
   "cell_type": "code",
   "execution_count": 44,
   "metadata": {},
   "outputs": [
    {
     "data": {
      "image/png": "[encoded data removed]",
      "text/plain": [
       "<Figure size 432x288 with 1 Axes>"
      ]
     },
     "metadata": {
      "needs_background": "light"
     },
     "output_type": "display_data"
    }
   ],
   "source": [
    "# TODO: run TSNE on the data to get a (different) 2-dimensional version, and make a plot for this version\n",
    "digitsTSNE = manifold.TSNE(n_components = 2, perplexity = 15).fit_transform(digits.data)\n",
    "\n",
    "colors = ['red', 'blue', 'green', 'navy', 'turquoise', 'darkorange','lime','orchid','gold','blueviolet']\n",
    "plt.figure()\n",
    "# loop over examples, and plot each one\n",
    "for i in range(len(digits2d)):\n",
    "    point = digitsTSNE[i]\n",
    "    classLabel = digits.target[i]\n",
    "    # plot a dot at an (x, y) coordinate, using the specified color.\n",
    "    plt.scatter(point[0], point[1], color=colors[classLabel])"
   ]
  },
  {
   "cell_type": "markdown",
   "metadata": {},
   "source": [
    "## What do you see?\n",
    "Examine the plots you've made, and desribe what information about the nature of the data you can glean from the plots.  Note that you may want to play around with the parameters of t-sne and/or re-run it a few times to get a plot you like (in particular, see what different values of the 'perplexity' parameter do).\n",
    "\n",
    "*** \n",
    "\n",
    "Of then many perplexities that we tried, 15 seems to give the most distinct picture with the 10 different blobs. It should be noted that every blob besides the lime and red ones have an overlap. The overlap between blobs is very slight though. Should also be noted that so blobs like the blue and violet ones have parts of their blob almost on the other side of the graph from where the main blob of their respective color. This sort of behaviour can be seen in all the plots of different perplexity, but it seems the most well-defined when we set the perplexity to 15."
   ]
  },
  {
   "cell_type": "markdown",
   "metadata": {},
   "source": [
    "## Visualizing components\n",
    "Another thing we can do with PCA is to look at the principle components themselves.  Since each component is a vector in the original data space, we can view them the same way we did the original vectors; in this case, as images.\n",
    "\n",
    "Try pulling out each of the top two components separately, and visualizing each of them as an image.  _HINT_: you should be able to do this by adapting code from earlier, when we showed first how to access the components, and later how to transform a 1D array to a 2D array and visualize it as an image."
   ]
  },
  {
   "cell_type": "code",
   "execution_count": null,
   "metadata": {},
   "outputs": [],
   "source": [
    "# TODO: reshape the first component and plot it as an image\n",
    "mat = np.reshape(pca.components_[0], [8,8])\n",
    "mat"
   ]
  },
  {
   "cell_type": "code",
   "execution_count": 52,
   "metadata": {},
   "outputs": [
    {
     "data": {
      "text/plain": [
       "<matplotlib.image.AxesImage at 0x1a1b996710>"
      ]
     },
     "execution_count": 52,
     "metadata": {},
     "output_type": "execute_result"
    },
    {
     "data": {
      "text/plain": [
       "<Figure size 432x288 with 0 Axes>"
      ]
     },
     "metadata": {},
     "output_type": "display_data"
    },
    {
     "data": {
      "image/png": "[encoded data removed]",
      "text/plain": [
       "<Figure size 288x288 with 1 Axes>"
      ]
     },
     "metadata": {
      "needs_background": "light"
     },
     "output_type": "display_data"
    }
   ],
   "source": [
    "plt.gray() # use gray levels rather than colors\n",
    "plt.matshow(mat) # show a matrix (i.e. 2D array) as visual values"
   ]
  },
  {
   "cell_type": "code",
   "execution_count": 53,
   "metadata": {},
   "outputs": [
    {
     "data": {
      "text/plain": [
       "<matplotlib.image.AxesImage at 0x1a1bfa7400>"
      ]
     },
     "execution_count": 53,
     "metadata": {},
     "output_type": "execute_result"
    },
    {
     "data": {
      "text/plain": [
       "<Figure size 432x288 with 0 Axes>"
      ]
     },
     "metadata": {},
     "output_type": "display_data"
    },
    {
     "data": {
      "image/png": "[encoded data removed]",
      "text/plain": [
       "<Figure size 288x288 with 1 Axes>"
      ]
     },
     "metadata": {
      "needs_background": "light"
     },
     "output_type": "display_data"
    }
   ],
   "source": [
    "# TODO: reshape the second component and plot it as an image\n",
    "mat = np.reshape(pca.components_[1], [8,8])\n",
    "plt.gray() # use gray levels rather than colors\n",
    "plt.matshow(mat) # show a matrix (i.e. 2D array) as visual values"
   ]
  },
  {
   "cell_type": "markdown",
   "metadata": {},
   "source": [
    "# Applying ML techniques\n",
    "\n",
    "Finally, you should try running a few classifiers on the digits data at different numbers of dimensions.  Try on the raw data, then try using PCA to reduce to varying numbers of features (perhaps try powers of 2 up to 32) and see how that impacts the performance of different classifiers.\n",
    "(Note that as usual this will be data dependent, so don't expect the same trends to be present for all data sets.)"
   ]
  },
  {
   "cell_type": "code",
   "execution_count": 8,
   "metadata": {},
   "outputs": [],
   "source": [
    "components = [2, 4, 16, 32, 64]"
   ]
  },
  {
   "cell_type": "markdown",
   "metadata": {},
   "source": [
    "## Let's Try Different SVM models first\n",
    "\n",
    "Support Vector Machine seems like a good fit for this dataset as we have very large vectors to work with and this style categorizes using a hyper plane."
   ]
  },
  {
   "cell_type": "code",
   "execution_count": 16,
   "metadata": {},
   "outputs": [
    {
     "data": {
      "text/plain": [
       "0.9749652294853964"
      ]
     },
     "execution_count": 16,
     "metadata": {},
     "output_type": "execute_result"
    }
   ],
   "source": [
    "X_train, X_test, y_train, y_test = train_test_split(digits.data, digits.target, test_size=0.4, random_state=0)\n",
    "\n",
    "linearSvm = svm.SVC(kernel='linear')\n",
    "linearSvm.fit(X_train, y_train)\n",
    "linearSvm.score(X_test, y_test)"
   ]
  },
  {
   "cell_type": "code",
   "execution_count": 17,
   "metadata": {},
   "outputs": [
    {
     "data": {
      "text/plain": [
       "0.9902642559109874"
      ]
     },
     "execution_count": 17,
     "metadata": {},
     "output_type": "execute_result"
    }
   ],
   "source": [
    "polySvm = svm.SVC(kernel='poly', gamma = 'auto')\n",
    "polySvm.fit(X_train, y_train)\n",
    "polySvm.score(X_test, y_test)"
   ]
  },
  {
   "cell_type": "code",
   "execution_count": 18,
   "metadata": {},
   "outputs": [
    {
     "data": {
      "text/plain": [
       "0.35465924895688455"
      ]
     },
     "execution_count": 18,
     "metadata": {},
     "output_type": "execute_result"
    }
   ],
   "source": [
    "rbfSvm = svm.SVC(kernel='rbf', gamma = 'auto')\n",
    "rbfSvm.fit(X_train, y_train)\n",
    "rbfSvm.score(X_test, y_test)"
   ]
  },
  {
   "cell_type": "markdown",
   "metadata": {},
   "source": [
    "#### Explanation\n",
    "\n",
    "The poly support vector machine already returns 99% accuracy on the dataset. To save computation time, it may not be best to run principal components with this classifier."
   ]
  },
  {
   "cell_type": "markdown",
   "metadata": {},
   "source": [
    "### PCA version with SVM"
   ]
  },
  {
   "cell_type": "code",
   "execution_count": 19,
   "metadata": {},
   "outputs": [
    {
     "name": "stdout",
     "output_type": "stream",
     "text": [
      "Components:  2 Score:  0.5952712100139083\n",
      "Components:  4 Score:  0.7969401947148818\n",
      "Components:  16 Score:  0.9596662030598053\n",
      "Components:  32 Score:  0.9749652294853964\n",
      "Components:  64 Score:  0.9749652294853964\n"
     ]
    }
   ],
   "source": [
    "for component in components:\n",
    "  pca = PCA(n_components = component)\n",
    "  eigenbasis = pca.fit(digits.data)\n",
    "  digits2d = eigenbasis.transform(digits.data)\n",
    "  X_train, X_test, y_train, y_test = train_test_split(digits2d, digits.target, test_size=0.4, random_state=0)\n",
    "  linearSvm = svm.SVC(kernel='linear')\n",
    "  linearSvm.fit(X_train, y_train)\n",
    "  print(\"Components: \", component, \"Score: \", linearSvm.score(X_test, y_test))"
   ]
  },
  {
   "cell_type": "markdown",
   "metadata": {},
   "source": [
    "**SVM poly takes awhile to run with PCAs, takes about 15 - 20min to run**"
   ]
  },
  {
   "cell_type": "code",
   "execution_count": 39,
   "metadata": {},
   "outputs": [
    {
     "name": "stdout",
     "output_type": "stream",
     "text": [
      "Components:  2 Score:  0.6133518776077886\n",
      "Components:  4 Score:  0.8164116828929068\n",
      "Components:  16 Score:  0.9902642559109874\n",
      "Components:  32 Score:  0.9930458970792768\n",
      "Components:  64 Score:  0.9916550764951322\n"
     ]
    }
   ],
   "source": [
    "for component in components:\n",
    "  pca = PCA(n_components = component)\n",
    "  eigenbasis = pca.fit(digits.data)\n",
    "  digits2d = eigenbasis.transform(digits.data)\n",
    "  X_train, X_test, y_train, y_test = train_test_split(digits2d, digits.target, test_size=0.4, random_state=0)\n",
    "  linearSvm = svm.SVC(kernel='poly', gamma = 'auto')\n",
    "  linearSvm.fit(X_train, y_train)\n",
    "  print(\"Components: \", component, \"Score: \", linearSvm.score(X_test, y_test))"
   ]
  },
  {
   "cell_type": "markdown",
   "metadata": {},
   "source": [
    "#### Explanation\n",
    "\n",
    "With 32 components, the accuracy is the best. The difference though between 16, 32, and 64 is very marginal. Only using 16 components with this classifier is good enough for the poly method and 32 is best for the linear method. Using pca with SVM may not be practical however, as the runtime is kinda long. Creating the PCA and then running the classifier may be computationally expensive to only gain .3%"
   ]
  },
  {
   "cell_type": "markdown",
   "metadata": {},
   "source": [
    "## Let's Try Different Nearest Neighbor Models Next"
   ]
  },
  {
   "cell_type": "code",
   "execution_count": 20,
   "metadata": {},
   "outputs": [
    {
     "name": "stdout",
     "output_type": "stream",
     "text": [
      "training shape: (1078, 64) , testing shape: (719, 64)\n"
     ]
    },
    {
     "data": {
      "text/plain": [
       "0.9874826147426982"
      ]
     },
     "execution_count": 20,
     "metadata": {},
     "output_type": "execute_result"
    }
   ],
   "source": [
    "X_train, X_test, y_train, y_test = train_test_split(digits.data, digits.target, test_size=0.4, random_state=0)\n",
    "\n",
    "print(\"training shape:\", X_train.shape, \", testing shape:\", X_test.shape)\n",
    "\n",
    "# now we can re-train our classifier using just the \"training\" part of the data:\n",
    "classifierB = neighbors.KNeighborsClassifier(metric='euclidean', n_neighbors=1)\n",
    "classifierB.fit(X_train, y_train)\n",
    "classifierB.score(X_test, y_test)"
   ]
  },
  {
   "cell_type": "code",
   "execution_count": 21,
   "metadata": {},
   "outputs": [
    {
     "name": "stdout",
     "output_type": "stream",
     "text": [
      "training shape: (1078, 64) , testing shape: (719, 64)\n"
     ]
    },
    {
     "data": {
      "text/plain": [
       "0.9847009735744089"
      ]
     },
     "execution_count": 21,
     "metadata": {},
     "output_type": "execute_result"
    }
   ],
   "source": [
    "print(\"training shape:\", X_train.shape, \", testing shape:\", X_test.shape)\n",
    "\n",
    "# now we can re-train our classifier using just the \"training\" part of the data:\n",
    "classifierB = neighbors.KNeighborsClassifier(metric='euclidean', n_neighbors=3)\n",
    "classifierB.fit(X_train, y_train)\n",
    "classifierB.score(X_test, y_test)"
   ]
  },
  {
   "cell_type": "code",
   "execution_count": 22,
   "metadata": {},
   "outputs": [
    {
     "name": "stdout",
     "output_type": "stream",
     "text": [
      "training shape: (1078, 64) , testing shape: (719, 64)\n"
     ]
    },
    {
     "data": {
      "text/plain": [
       "0.9791376912378303"
      ]
     },
     "execution_count": 22,
     "metadata": {},
     "output_type": "execute_result"
    }
   ],
   "source": [
    "print(\"training shape:\", X_train.shape, \", testing shape:\", X_test.shape)\n",
    "\n",
    "# now we can re-train our classifier using just the \"training\" part of the data:\n",
    "classifierB = neighbors.KNeighborsClassifier(metric='euclidean', n_neighbors=5)\n",
    "classifierB.fit(X_train, y_train)\n",
    "classifierB.score(X_test, y_test)"
   ]
  },
  {
   "cell_type": "code",
   "execution_count": 23,
   "metadata": {},
   "outputs": [
    {
     "name": "stdout",
     "output_type": "stream",
     "text": [
      "training shape: (1078, 64) , testing shape: (719, 64)\n"
     ]
    },
    {
     "data": {
      "text/plain": [
       "0.9735744089012517"
      ]
     },
     "execution_count": 23,
     "metadata": {},
     "output_type": "execute_result"
    }
   ],
   "source": [
    "print(\"training shape:\", X_train.shape, \", testing shape:\", X_test.shape)\n",
    "\n",
    "# now we can re-train our classifier using just the \"training\" part of the data:\n",
    "classifierB = neighbors.KNeighborsClassifier(metric='euclidean', n_neighbors=10)\n",
    "classifierB.fit(X_train, y_train)\n",
    "classifierB.score(X_test, y_test)"
   ]
  },
  {
   "cell_type": "code",
   "execution_count": 24,
   "metadata": {},
   "outputs": [
    {
     "name": "stdout",
     "output_type": "stream",
     "text": [
      "training shape: (1078, 64) , testing shape: (719, 64)\n"
     ]
    },
    {
     "data": {
      "text/plain": [
       "0.9568845618915159"
      ]
     },
     "execution_count": 24,
     "metadata": {},
     "output_type": "execute_result"
    }
   ],
   "source": [
    "print(\"training shape:\", X_train.shape, \", testing shape:\", X_test.shape)\n",
    "\n",
    "# now we can re-train our classifier using just the \"training\" part of the data:\n",
    "classifierB = neighbors.KNeighborsClassifier(metric='euclidean', n_neighbors=20)\n",
    "classifierB.fit(X_train, y_train)\n",
    "classifierB.score(X_test, y_test)"
   ]
  },
  {
   "cell_type": "markdown",
   "metadata": {},
   "source": [
    "#### Explanation\n",
    "\n",
    "As can be seen by the above nearest neighbor classifiers, the best version of nearest neighbors is when we use 1 nearest neighbor."
   ]
  },
  {
   "cell_type": "markdown",
   "metadata": {},
   "source": [
    "### PCA With Nearest Neighbors"
   ]
  },
  {
   "cell_type": "code",
   "execution_count": 31,
   "metadata": {},
   "outputs": [
    {
     "name": "stdout",
     "output_type": "stream",
     "text": [
      "Component:  2 Score:  0.5507649513212796\n",
      "Component:  4 Score:  0.8136300417246175\n",
      "Component:  16 Score:  0.9819193324061196\n",
      "Component:  32 Score:  0.9860917941585535\n",
      "Component:  64 Score:  0.9874826147426982\n"
     ]
    }
   ],
   "source": [
    "for component in components: \n",
    "  pca = PCA(n_components = component)\n",
    "  eigenbasis = pca.fit(digits.data)\n",
    "  digits2d = eigenbasis.transform(digits.data)\n",
    "  X_train, X_test, y_train, y_test = train_test_split(digits2d, digits.target, test_size=0.4, random_state=0)\n",
    "  classifierB = neighbors.KNeighborsClassifier(metric='euclidean', n_neighbors=1)\n",
    "  classifierB.fit(X_train, y_train)\n",
    "  print(\"Component: \", component, \"Score: \", classifierB.score(X_test, y_test))"
   ]
  },
  {
   "cell_type": "markdown",
   "metadata": {},
   "source": [
    "#### Explanation\n",
    "\n",
    "With 64 components we get the same accuracy as the dataset was originally. This tells us that not much data in the dataset was acting as noise to the nearest neighbor classifier. In fact, using PCA with the nearest neighbor classifier might not be beneficial with this dataset."
   ]
  },
  {
   "cell_type": "markdown",
   "metadata": {},
   "source": [
    "## Decision Trees with Digits"
   ]
  },
  {
   "cell_type": "code",
   "execution_count": 32,
   "metadata": {},
   "outputs": [
    {
     "data": {
      "text/plain": [
       "0.8331015299026425"
      ]
     },
     "execution_count": 32,
     "metadata": {},
     "output_type": "execute_result"
    }
   ],
   "source": [
    "X_train, X_test, y_train, y_test = train_test_split(digits.data, digits.target, test_size=0.4, random_state=0)\n",
    "\n",
    "decTree = tree.DecisionTreeClassifier()\n",
    "decTree.fit(X_train, y_train)\n",
    "decTree.score(X_test, y_test)"
   ]
  },
  {
   "cell_type": "code",
   "execution_count": 33,
   "metadata": {},
   "outputs": [
    {
     "data": {
      "text/plain": [
       "0.8344923504867872"
      ]
     },
     "execution_count": 33,
     "metadata": {},
     "output_type": "execute_result"
    }
   ],
   "source": [
    "decTree = tree.DecisionTreeClassifier()\n",
    "decTree.fit(X_train, y_train)\n",
    "decTree.score(X_test, y_test)"
   ]
  },
  {
   "cell_type": "code",
   "execution_count": 34,
   "metadata": {},
   "outputs": [
    {
     "data": {
      "text/plain": [
       "0.8261474269819193"
      ]
     },
     "execution_count": 34,
     "metadata": {},
     "output_type": "execute_result"
    }
   ],
   "source": [
    "decTree = tree.DecisionTreeClassifier()\n",
    "decTree.fit(X_train, y_train)\n",
    "decTree.score(X_test, y_test)"
   ]
  },
  {
   "cell_type": "code",
   "execution_count": 35,
   "metadata": {},
   "outputs": [
    {
     "data": {
      "text/plain": [
       "0.8289290681502086"
      ]
     },
     "execution_count": 35,
     "metadata": {},
     "output_type": "execute_result"
    }
   ],
   "source": [
    "decTree = tree.DecisionTreeClassifier()\n",
    "decTree.fit(X_train, y_train)\n",
    "decTree.score(X_test, y_test)"
   ]
  },
  {
   "cell_type": "markdown",
   "metadata": {},
   "source": [
    "### PCA with Decision Trees"
   ]
  },
  {
   "cell_type": "code",
   "execution_count": 36,
   "metadata": {},
   "outputs": [
    {
     "name": "stdout",
     "output_type": "stream",
     "text": [
      "Components:  2 Score:  0.5493741307371349\n",
      "Components:  4 Score:  0.7552155771905424\n",
      "Components:  16 Score:  0.8553546592489569\n",
      "Components:  32 Score:  0.8191933240611962\n",
      "Components:  64 Score:  0.8344923504867872\n"
     ]
    }
   ],
   "source": [
    "for component in components: \n",
    "  pca = PCA(n_components = component)\n",
    "  eigenbasis = pca.fit(digits.data)\n",
    "  digits2d = eigenbasis.transform(digits.data)\n",
    "  X_train, X_test, y_train, y_test = train_test_split(digits2d, digits.target, test_size=0.4, random_state=0)\n",
    "  decTree = tree.DecisionTreeClassifier()\n",
    "  decTree.fit(X_train, y_train)\n",
    "  print(\"Components: \", component, \"Score: \", decTree.score(X_test, y_test))"
   ]
  },
  {
   "cell_type": "markdown",
   "metadata": {},
   "source": [
    "#### Explanation\n",
    "\n",
    "16 components is the best version of this classifier. 32 or more makes the classifier start looking at arbitrary data, which is seen as noise while classifying the dataset. Using 16 components gives us the best decision tree result, and pca should definitely be used with this classifier as it gives the most accurate result."
   ]
  },
  {
   "cell_type": "markdown",
   "metadata": {},
   "source": [
    "## Random Forests with Digits"
   ]
  },
  {
   "cell_type": "code",
   "execution_count": 35,
   "metadata": {},
   "outputs": [
    {
     "data": {
      "text/plain": [
       "0.972183588317107"
      ]
     },
     "execution_count": 35,
     "metadata": {},
     "output_type": "execute_result"
    }
   ],
   "source": [
    "X_train, X_test, y_train, y_test = train_test_split(digits.data, digits.target, test_size=0.4, random_state=0)\n",
    "\n",
    "clf = RandomForestClassifier(n_estimators=100)\n",
    "clf.fit(X_train, y_train)\n",
    "clf.score(X_test, y_test)"
   ]
  },
  {
   "cell_type": "code",
   "execution_count": 36,
   "metadata": {},
   "outputs": [
    {
     "data": {
      "text/plain": [
       "0.9707927677329624"
      ]
     },
     "execution_count": 36,
     "metadata": {},
     "output_type": "execute_result"
    }
   ],
   "source": [
    "clf = RandomForestClassifier(n_estimators=50)\n",
    "clf.fit(X_train, y_train)\n",
    "clf.score(X_test, y_test)"
   ]
  },
  {
   "cell_type": "code",
   "execution_count": 37,
   "metadata": {},
   "outputs": [
    {
     "data": {
      "text/plain": [
       "0.972183588317107"
      ]
     },
     "execution_count": 37,
     "metadata": {},
     "output_type": "execute_result"
    }
   ],
   "source": [
    "clf = RandomForestClassifier(n_estimators=150)\n",
    "clf.fit(X_train, y_train)\n",
    "clf.score(X_test, y_test)"
   ]
  },
  {
   "cell_type": "code",
   "execution_count": 39,
   "metadata": {},
   "outputs": [
    {
     "data": {
      "text/plain": [
       "0.9707927677329624"
      ]
     },
     "execution_count": 39,
     "metadata": {},
     "output_type": "execute_result"
    }
   ],
   "source": [
    "clf = RandomForestClassifier(n_estimators=125)\n",
    "clf.fit(X_train, y_train)\n",
    "clf.score(X_test, y_test)"
   ]
  },
  {
   "cell_type": "markdown",
   "metadata": {},
   "source": [
    "#### Explanation\n",
    "\n",
    "From testing multiple runs with the random forest classifier. The forest where we set 100 estimators seems to be the most consistent at giving around 97.2% accuracy classifications. However, all of these classifiers score around the same consistently."
   ]
  },
  {
   "cell_type": "markdown",
   "metadata": {},
   "source": [
    "### PCA with Random Forests"
   ]
  },
  {
   "cell_type": "code",
   "execution_count": 37,
   "metadata": {},
   "outputs": [
    {
     "name": "stdout",
     "output_type": "stream",
     "text": [
      "Component:  2 Score:  0.6050069541029207\n",
      "Component:  4 Score:  0.8344923504867872\n",
      "Component:  16 Score:  0.9582753824756607\n",
      "Component:  32 Score:  0.9707927677329624\n",
      "Component:  64 Score:  0.9624478442280946\n"
     ]
    }
   ],
   "source": [
    "for component in components: \n",
    "  pca = PCA(n_components = component)\n",
    "  eigenbasis = pca.fit(digits.data)\n",
    "  digits2d = eigenbasis.transform(digits.data)\n",
    "  X_train, X_test, y_train, y_test = train_test_split(digits2d, digits.target, test_size=0.4, random_state=0)\n",
    "  clf = RandomForestClassifier(n_estimators=100)\n",
    "  clf.fit(X_train, y_train)\n",
    "  print(\"Component: \", component, \"Score: \", clf.score(X_test, y_test))"
   ]
  },
  {
   "cell_type": "markdown",
   "metadata": {},
   "source": [
    "#### Explanation\n",
    "\n",
    "For two components the score is awful. As we increase the number of components the accuracy gets better. 16 and 32 components, produces notably better accuracy than the non-pca random forest model. We see that 32 components consistently gives us the best accuracy and more then 32 shows noise and makes the random forest classifier worse."
   ]
  },
  {
   "cell_type": "markdown",
   "metadata": {},
   "source": [
    "## Ensemble with Digits\n",
    "\n",
    "Taking the best random forest, the decision tree, best nearest neighbor, best SVM, and combining them into one ensemble."
   ]
  },
  {
   "cell_type": "code",
   "execution_count": 9,
   "metadata": {},
   "outputs": [],
   "source": [
    "X_train, X_test, y_train, y_test = train_test_split(digits.data, digits.target, test_size=0.4, random_state=0)\n",
    "\n",
    "clf = RandomForestClassifier(n_estimators=100)\n",
    "nn = neighbors.KNeighborsClassifier(metric='euclidean', n_neighbors=1)\n",
    "polySvm = svm.SVC(kernel='poly', gamma = 'auto')\n",
    "decTree = tree.DecisionTreeClassifier()"
   ]
  },
  {
   "cell_type": "code",
   "execution_count": 58,
   "metadata": {},
   "outputs": [],
   "source": [
    "eclf = VotingClassifier(estimators=[('rf', clf), ('knn', nn), ('svc', polySvm), \n",
    "                                    ('dt', decTree)], voting='hard')"
   ]
  },
  {
   "cell_type": "code",
   "execution_count": 59,
   "metadata": {},
   "outputs": [
    {
     "data": {
      "text/plain": [
       "VotingClassifier(estimators=[('rf',\n",
       "                              RandomForestClassifier(bootstrap=True,\n",
       "                                                     class_weight=None,\n",
       "                                                     criterion='gini',\n",
       "                                                     max_depth=None,\n",
       "                                                     max_features='auto',\n",
       "                                                     max_leaf_nodes=None,\n",
       "                                                     min_impurity_decrease=0.0,\n",
       "                                                     min_impurity_split=None,\n",
       "                                                     min_samples_leaf=1,\n",
       "                                                     min_samples_split=2,\n",
       "                                                     min_weight_fraction_leaf=0.0,\n",
       "                                                     n_estimators=100,\n",
       "                                                     n_jobs=None,\n",
       "                                                     oob_score=False,\n",
       "                                                     random_state=None,\n",
       "                                                     verbos...\n",
       "                                  verbose=False)),\n",
       "                             ('dt',\n",
       "                              DecisionTreeClassifier(class_weight=None,\n",
       "                                                     criterion='gini',\n",
       "                                                     max_depth=None,\n",
       "                                                     max_features=None,\n",
       "                                                     max_leaf_nodes=None,\n",
       "                                                     min_impurity_decrease=0.0,\n",
       "                                                     min_impurity_split=None,\n",
       "                                                     min_samples_leaf=1,\n",
       "                                                     min_samples_split=2,\n",
       "                                                     min_weight_fraction_leaf=0.0,\n",
       "                                                     presort=False,\n",
       "                                                     random_state=None,\n",
       "                                                     splitter='best'))],\n",
       "                 flatten_transform=True, n_jobs=None, voting='hard',\n",
       "                 weights=None)"
      ]
     },
     "execution_count": 59,
     "metadata": {},
     "output_type": "execute_result"
    }
   ],
   "source": [
    "eclf.fit(X_train, y_train)"
   ]
  },
  {
   "cell_type": "code",
   "execution_count": 60,
   "metadata": {},
   "outputs": [
    {
     "data": {
      "text/plain": [
       "0.9874826147426982"
      ]
     },
     "execution_count": 60,
     "metadata": {},
     "output_type": "execute_result"
    }
   ],
   "source": [
    "eclf.score(X_test, y_test)"
   ]
  },
  {
   "cell_type": "markdown",
   "metadata": {},
   "source": [
    "#### Explanation\n",
    "\n",
    "The score we get using the voting classifier to have all of our above classifiers work together to classify the digits dataset is astounding. Since the score is so high at 98.7% already, then it may not be worth running PCA with this classifier because the improvements are potentially marginal at best."
   ]
  },
  {
   "cell_type": "markdown",
   "metadata": {},
   "source": [
    "### PCA with Voting Classifier Ensemble\n",
    "\n",
    "Takes forever to run. Will complete eventually, but takes about 10 - 15 min."
   ]
  },
  {
   "cell_type": "code",
   "execution_count": 9,
   "metadata": {},
   "outputs": [
    {
     "name": "stdout",
     "output_type": "stream",
     "text": [
      "Component:  2 Score:  0.6050069541029207\n",
      "Component:  4 Score:  0.8331015299026425\n",
      "Component:  16 Score:  0.9833101529902643\n",
      "Component:  32 Score:  0.9888734353268428\n",
      "Component:  64 Score:  0.9860917941585535\n"
     ]
    }
   ],
   "source": [
    "for component in components: \n",
    "  pca = PCA(n_components = component)\n",
    "  eigenbasis = pca.fit(digits.data)\n",
    "  digits2d = eigenbasis.transform(digits.data)\n",
    "  X_train, X_test, y_train, y_test = train_test_split(digits2d, digits.target, test_size=0.4, random_state=0)\n",
    "  clf = RandomForestClassifier(n_estimators=100)\n",
    "  nn = neighbors.KNeighborsClassifier(metric='euclidean', n_neighbors=1)\n",
    "  polySvm = svm.SVC(kernel='poly', gamma = 'auto')\n",
    "  decTree = tree.DecisionTreeClassifier()\n",
    "  eclf = VotingClassifier(estimators=[('rf', clf), ('knn', nn), ('svc', polySvm), \n",
    "                                    ('dt', decTree)], voting='hard')\n",
    "  eclf.fit(X_train, y_train)\n",
    "  print(\"Component: \", component, \"Score: \", eclf.score(X_test, y_test))"
   ]
  },
  {
   "cell_type": "markdown",
   "metadata": {},
   "source": [
    "#### Explanation\n",
    "\n",
    "Given the large amount of wait time the score doesn't improve significantly enough when we compare the PCA scores above with the none pca version of the classifier. It improves by .1% when we use 32 components, but that improvement isn't enough to justify using PCA on the voting classifier."
   ]
  },
  {
   "cell_type": "markdown",
   "metadata": {},
   "source": [
    "## Summary\n",
    "\n",
    "The best classifier for this dataset is probably SVM. SVM gave the best results with 99% accuracy on this dataset. We then saw that using the voting classifier we nearly achieved 99% with 32 prinicipal components. We did see that the decision tree classifier gave 85% accuracy by using only 16 principal components of this dataset compared to giving only 83% at best. It also should be noticed that using 16 or 32 principal components with most classifiers gives us the same or better accuracy, which means that there are chunks of the data that are \"noisy\" to the classifiers."
   ]
  },
  {
   "cell_type": "code",
   "execution_count": null,
   "metadata": {},
   "outputs": [],
   "source": []
  }
 ],
 "metadata": {
  "kernelspec": {
   "display_name": "Python 3",
   "language": "python",
   "name": "python3"
  },
  "language_info": {
   "codemirror_mode": {
    "name": "ipython",
    "version": 3
   },
   "file_extension": ".py",
   "mimetype": "text/x-python",
   "name": "python",
   "nbconvert_exporter": "python",
   "pygments_lexer": "ipython3",
   "version": "3.7.3"
  }
 },
 "nbformat": 4,
 "nbformat_minor": 4
}
